{
 "cells": [
  {
   "cell_type": "code",
   "execution_count": 1,
   "metadata": {},
   "outputs": [
    {
     "name": "stderr",
     "output_type": "stream",
     "text": [
      "\n"
     ]
    }
   ],
   "source": [
    "import os\n",
    "import abc\n",
    "import random\n",
    "import itertools\n",
    "import collections\n",
    "import warnings\n",
    "from typing import NamedTuple, Any, Iterable, Callable\n",
    "\n",
    "import cv2\n",
    "import numpy as np\n",
    "import pandas as pd\n",
    "import torch\n",
    "import torchvision\n",
    "import torch.utils.data\n",
    "import lightning\n",
    "import lightning.pytorch\n",
    "import lightning.pytorch.loggers\n",
    "import lightning.pytorch.callbacks\n",
    "import gym_minigrid\n",
    "import gym_minigrid.wrappers\n",
    "import gym\n",
    "import lovely_tensors\n",
    "import lovely_numpy\n",
    "import wandb\n",
    "from tqdm.auto import tqdm\n",
    "\n",
    "from envs import make_env_minigrid, make_env_pong\n",
    "\n",
    "cv2.ocl.setUseOpenCL(False)\n",
    "\n",
    "\n",
    "def lovely(x):\n",
    "    \"summarizes important tensor properties\"\n",
    "    if isinstance(x, np.ndarray):\n",
    "        return lovely_numpy.lovely(x)\n",
    "    return lovely_tensors.lovely(x)"
   ]
  },
  {
   "attachments": {},
   "cell_type": "markdown",
   "metadata": {},
   "source": [
    "### Replay Buffer"
   ]
  },
  {
   "cell_type": "code",
   "execution_count": 2,
   "metadata": {},
   "outputs": [],
   "source": [
    "from __future__ import annotations\n",
    "\n",
    "class Transition(NamedTuple):\n",
    "    state: torch.Tensor | np.ndarray\n",
    "    action: torch.Tensor | np.ndarray\n",
    "    reward: torch.Tensor | np.ndarray\n",
    "    next_state: torch.Tensor | np.ndarray\n",
    "    done: torch.Tensor | np.ndarray | bool\n",
    "\n",
    "\n",
    "class ReplayBuffer(torch.utils.data.IterableDataset):\n",
    "    def __init__(self, capacity: int, seed = None):\n",
    "        self.capacity = capacity\n",
    "        self.buffer: list[Transition] = []\n",
    "        self.seed = seed\n",
    "        self.rng = random.Random(seed)\n",
    "    \n",
    "    def __next__(self):\n",
    "        transition = self.rng.choice(self.buffer)\n",
    "        transition = Transition(\n",
    "            state = torch.tensor(transition.state, dtype=torch.float32),\n",
    "            action = torch.tensor(transition.action, dtype=torch.int64),\n",
    "            reward = torch.tensor(transition.reward, dtype=torch.float32),\n",
    "            next_state = torch.tensor(transition.next_state, dtype=torch.float32),\n",
    "            done = torch.tensor(transition.done.item(), dtype=torch.bool),\n",
    "        )\n",
    "        return transition\n",
    "    \n",
    "    def __iter__(self):\n",
    "        return self\n",
    "    \n",
    "    def add(self, t: Transition):\n",
    "        self.buffer.append(t)\n",
    "        if len(self.buffer) > self.capacity:\n",
    "            self.buffer.pop(0)\n",
    "    "
   ]
  },
  {
   "attachments": {},
   "cell_type": "markdown",
   "metadata": {},
   "source": [
    "### Architectures"
   ]
  },
  {
   "cell_type": "code",
   "execution_count": 3,
   "metadata": {},
   "outputs": [],
   "source": [
    "from __future__ import annotations\n",
    "\n",
    "\n",
    "class MlpQNet(torch.nn.Module):\n",
    "    def __init__(self, num_actions: int):\n",
    "        super().__init__()\n",
    "        self.num_actions = num_actions\n",
    "        self.fc = torch.nn.Sequential(\n",
    "            torch.nn.Flatten(start_dim=1), \n",
    "            torch.nn.Linear(3*7**2, 256),\n",
    "            torch.nn.ReLU(),\n",
    "            torch.nn.Linear(256, 256),\n",
    "            torch.nn.ReLU(),\n",
    "            torch.nn.Linear(256, 64),\n",
    "            torch.nn.ReLU(),\n",
    "            torch.nn.Linear(64, num_actions)\n",
    "        )\n",
    "\n",
    "    def forward(self, x) -> torch.Tensor:\n",
    "        if isinstance(x, np.ndarray):\n",
    "            param = next(self.parameters())\n",
    "            x = torch.tensor(x).to(param)\n",
    "\n",
    "        if len(x.shape) == 3:\n",
    "            x = x.unsqueeze(dim=0)\n",
    "\n",
    "        return self.fc(x)\n",
    "\n",
    "\n",
    "def set_submodule(module: torch.nn.Module, submodule_path: str, submodule: torch.nn.Module) -> None:\n",
    "    *parent_path, attr_name = submodule_path.split(\".\")\n",
    "    parent = module\n",
    "    for child in parent_path:\n",
    "        parent = getattr(parent, child)\n",
    "    setattr(parent, attr_name, submodule)\n",
    "\n",
    "\n",
    "# Copied from my previous homework\n",
    "class VisionQNet(torch.nn.Module):\n",
    "    \"\"\"\n",
    "    Policy network is compatible with any CNN architecture as long as:\n",
    "    1) One of the conv layers determines how many channels it can process\n",
    "    2) One of the linear layers determines the number of output neurons\n",
    "    \n",
    "    This should be enough to support all standard architectures\n",
    "\n",
    "    >>> policy_nn = PolicyNetwork(\n",
    "    ...     actions=5,\n",
    "    ...     architecture=\"efficientnet_b0\",\n",
    "    ...     input_conv=\"features.0.0\",\n",
    "    ...     output_lin=\"classifier.1\",\n",
    "    ...     pretrained_weights=None, # \"IMAGENET1K_V1\"\n",
    "    ... )\n",
    "    >>> inputs = torch.rand(size=(16, 1, 64, 64))\n",
    "    >>> policy_nn(inputs).shape\n",
    "    torch.Size([16, 5])\n",
    "\n",
    "    \"\"\"\n",
    "\n",
    "    def __init__(\n",
    "        self,\n",
    "        actions: int | dict[int, str],\n",
    "        architecture: str,\n",
    "        input_conv: str,\n",
    "        output_lin: str,\n",
    "        pretrained_weights = None,\n",
    "        seed: int = 42,\n",
    "    ) -> None:\n",
    "        super(VisionQNet, self).__init__()\n",
    "        if isinstance(actions, int):\n",
    "            self.n_units_out = actions\n",
    "            self.actions = {i: f\"action_{i}\" for i in range(actions)}\n",
    "        else:\n",
    "            self.n_units_out = len(actions)\n",
    "            self.actions = actions\n",
    "        self.architecture = architecture\n",
    "        self.input_conv = input_conv\n",
    "        self.output_lin = output_lin\n",
    "        self.nn = torchvision.models.get_model(self.architecture)\n",
    "        self._patch_input_shape()\n",
    "        self._patch_output_shape()\n",
    "        self.init(pretrained_weights, seed)\n",
    "\n",
    "    def init(self, pretrained_weights = None, seed: int = None) -> None:\n",
    "        \"\"\"\n",
    "        Initializes the model parameters, either randomly or with pretrained weights.\n",
    "        Patches the architecture to have desired input and output shape.\n",
    "        \"\"\"\n",
    "        if seed is not None:\n",
    "            torch.random.manual_seed(seed)\n",
    "\n",
    "        state_dict = torchvision.models.get_model(self.architecture, weights=pretrained_weights).state_dict()\n",
    "\n",
    "        for key in list(state_dict.keys()):\n",
    "            if key.startswith(self.input_conv) or key.startswith(self.output_lin):\n",
    "                state_dict.pop(key)\n",
    "\n",
    "        incompatible = self.nn.load_state_dict(state_dict, strict=False)\n",
    "        if len(incompatible.unexpected_keys) != 0:\n",
    "            raise ValueError(f\"Unexpected additional keys in pretrained weights: {incompatible.unexpected_keys}\")\n",
    "        \n",
    "        for key in incompatible.missing_keys:\n",
    "            assert isinstance(key, str)\n",
    "            if key.startswith(self.input_conv) or key.startswith(self.output_lin):\n",
    "                continue\n",
    "            raise ValueError(f\"Unexpected missing key in pretrained weights: {key}\")\n",
    "\n",
    "        del state_dict\n",
    "\n",
    "        in_out_params = itertools.chain(\n",
    "            self.nn.get_submodule(self.input_conv).parameters(),\n",
    "            self.nn.get_submodule(self.output_lin).parameters(),\n",
    "        )\n",
    "\n",
    "        for param in in_out_params:\n",
    "            torch.nn.init.trunc_normal_(param, mean=0, std=1e-4, a=-0.01, b=0.01)            \n",
    "\n",
    "    def _patch_input_shape(self) -> None:\n",
    "        \"\"\"\n",
    "        Make the architecture accept a single (grayscale) channel\n",
    "        \"\"\"\n",
    "        old_in_conv = self.nn.get_submodule(self.input_conv)\n",
    "        assert isinstance(old_in_conv, torch.nn.Conv2d)\n",
    "\n",
    "        if old_in_conv.in_channels == 1:\n",
    "            return\n",
    "\n",
    "        new_in_conv = torch.nn.Conv2d(\n",
    "            in_channels = 1, \n",
    "            out_channels = old_in_conv.out_channels,\n",
    "            kernel_size = old_in_conv.kernel_size,\n",
    "            stride = old_in_conv.stride,\n",
    "            padding = old_in_conv.padding,\n",
    "            bias = old_in_conv.bias is not None,\n",
    "        ).to(\n",
    "            old_in_conv.weight\n",
    "        )\n",
    "        set_submodule(self.nn, self.input_conv, new_in_conv)\n",
    "\n",
    "    def _patch_output_shape(self) -> None:\n",
    "        \"\"\"\n",
    "        Make the architecture output the correct shape\n",
    "        \"\"\"\n",
    "        old_out_lin = self.nn.get_submodule(self.output_lin)\n",
    "        assert isinstance(old_out_lin, torch.nn.Linear)\n",
    "        \n",
    "        if old_out_lin.out_features == self.n_units_out:\n",
    "            return\n",
    "\n",
    "        new_out_lin = torch.nn.Linear(\n",
    "            in_features = old_out_lin.in_features,\n",
    "            out_features = self.n_units_out,\n",
    "            bias = old_out_lin.bias is not None,\n",
    "        ).to(\n",
    "            old_out_lin.weight\n",
    "        )\n",
    "        set_submodule(self.nn, self.output_lin, new_out_lin)\n",
    "\n",
    "    def forward(self, x: torch.Tensor) -> torch.Tensor:\n",
    "        # select only last channel if there are more\n",
    "        # TODO revisit this. it's coming from previous homework and maybe not relevant anymore\n",
    "        x = x[:, (-1,), :, :]\n",
    "        return self.nn(x)"
   ]
  },
  {
   "cell_type": "code",
   "execution_count": 4,
   "metadata": {},
   "outputs": [],
   "source": [
    "VisionQNet(5, \"mobilenet_v3_small\", \"features.0.0\", \"classifier.3\")\n",
    "None"
   ]
  },
  {
   "attachments": {},
   "cell_type": "markdown",
   "metadata": {},
   "source": [
    "### Environments"
   ]
  },
  {
   "cell_type": "code",
   "execution_count": 5,
   "metadata": {},
   "outputs": [
    {
     "name": "stdout",
     "output_type": "stream",
     "text": [
      "obs: array[3, 7, 7] f32 n=147 x∈[0., 8.000] μ=2.020 σ=2.075\n",
      "metadata: {'render.modes': ['human', 'rgb_array'], 'video.frames_per_second': 10, 'render_modes': ['human', 'rgb_array', 'single_rgb_array'], 'render_fps': 10}\n",
      "action_space: Discrete(7)\n"
     ]
    }
   ],
   "source": [
    "env_minigrid = make_env_minigrid()\n",
    "state = env_minigrid.reset()\n",
    "print(\"obs:\", lovely(state))\n",
    "print(\"metadata:\", env_minigrid.metadata)\n",
    "print(\"action_space:\", env_minigrid.action_space)"
   ]
  },
  {
   "cell_type": "code",
   "execution_count": 6,
   "metadata": {},
   "outputs": [
    {
     "name": "stdout",
     "output_type": "stream",
     "text": [
      "obs: array[4, 84, 84] u8 n=28224 x∈[52, 236] μ=106.303 σ=47.242\n",
      "metadata: {'render_modes': ['human', 'rgb_array']}\n",
      "action_space: Discrete(6)\n"
     ]
    },
    {
     "name": "stderr",
     "output_type": "stream",
     "text": [
      "A.L.E: Arcade Learning Environment (version 0.7.5+db37282)\n",
      "[Powered by Stella]\n"
     ]
    }
   ],
   "source": [
    "env_pong = make_env_pong()\n",
    "state = env_pong.reset()\n",
    "print(\"obs:\", lovely(state))\n",
    "print(\"metadata:\", env_pong.metadata)\n",
    "print(\"action_space:\", env_pong.action_space)"
   ]
  },
  {
   "attachments": {},
   "cell_type": "markdown",
   "metadata": {},
   "source": [
    "### Measuring score"
   ]
  },
  {
   "cell_type": "code",
   "execution_count": 7,
   "metadata": {},
   "outputs": [],
   "source": [
    "class Agent(abc.ABC):\n",
    "    def select_action(self, state) -> int:\n",
    "        ..."
   ]
  },
  {
   "cell_type": "code",
   "execution_count": 8,
   "metadata": {},
   "outputs": [],
   "source": [
    "\n",
    "def measure_scores_parallel(agent: Agent, make_env: Callable, make_env_kwargs: list[dict[str, Any]], select_action_kwargs: dict[str, Any], num_episodes: int | None = None, limit_steps: int = None, return_unfinished: bool = False) -> Iterable[float]:\n",
    "    if isinstance(make_env_kwargs, dict):\n",
    "        make_env_kwargs = [make_env_kwargs] * num_episodes\n",
    "    elif isinstance(make_env_kwargs, list):\n",
    "        if num_episodes is None:\n",
    "            num_episodes = len(make_env_kwargs)\n",
    "    if len(make_env_kwargs) != num_episodes:\n",
    "        raise ValueError(\"num_episodes does not match length of make_env_kwargs\")\n",
    "\n",
    "    env = gym.vector.AsyncVectorEnv([lambda: make_env(**kwargs) for kwargs in make_env_kwargs])\n",
    "    \n",
    "    if limit_steps is None:\n",
    "        limit_steps = env.get_attr(\"spec\")[0].max_episode_steps\n",
    "    if limit_steps is None:\n",
    "        warnings.warn(\"No limit_steps provided and env does not have max_episode_steps set. This might lead to infinite loops.\")\n",
    "    \n",
    "    state = env.reset()\n",
    "    score = np.zeros(num_episodes)\n",
    "    done_in_past = np.zeros(num_episodes, dtype=bool)\n",
    "    done_at_the_moment = np.zeros(num_episodes, dtype=bool)\n",
    "\n",
    "    if limit_steps is None:\n",
    "        steps = itertools.count()\n",
    "    else:\n",
    "        steps = range(limit_steps)\n",
    "    for step in tqdm(steps, \"Measuring score - step\"):\n",
    "        score[done_at_the_moment] = 0\n",
    "        action = agent.select_action(state)\n",
    "        state, reward, done_at_the_moment, _ = env.step(action)\n",
    "        done_at_the_moment = np.array(done_at_the_moment, dtype=bool)\n",
    "        reward = np.array(reward)\n",
    "        # vector env resets done envs automatically and starts over\n",
    "        # we only want to update score of episodes that were not done before\n",
    "        # and output the score for that env only once\n",
    "        score += reward\n",
    "        done = done_in_past | done_at_the_moment\n",
    "        done_for_first_time = done_in_past != done # this is not the same as done_at_the_moment, because of autoreset\n",
    "        done_in_past = done\n",
    "        \n",
    "        for idx in done_for_first_time.nonzero()[0]:\n",
    "            yield score[idx].item()\n",
    "\n",
    "        if done_in_past.all():\n",
    "            break\n",
    "      \n",
    "    env.close()\n",
    "\n",
    "    if return_unfinished:\n",
    "        yield from score[~done_in_past].tolist()"
   ]
  },
  {
   "cell_type": "code",
   "execution_count": 9,
   "metadata": {},
   "outputs": [
    {
     "data": {
      "text/plain": [
       "array([1., 0., 3., 0., 5.])"
      ]
     },
     "execution_count": 9,
     "metadata": {},
     "output_type": "execute_result"
    }
   ],
   "source": [
    "import numpy as np\n",
    "score = np.zeros(5)\n",
    "done_in_past = np.array([False, True, False, True, False])\n",
    "reward = np.array([1, 2, 3, 4, 5])\n",
    "score[~done_in_past] += reward[~done_in_past]\n",
    "score"
   ]
  },
  {
   "cell_type": "code",
   "execution_count": 10,
   "metadata": {},
   "outputs": [
    {
     "data": {
      "text/plain": [
       "12.0"
      ]
     },
     "execution_count": 10,
     "metadata": {},
     "output_type": "execute_result"
    }
   ],
   "source": [
    "def cvar(scores: np.ndarray | pd.Series, *, percent: float) -> float:\n",
    "    \"\"\"\n",
    "    Computes conditional value at risk (CVaR) of a given set of scores.\n",
    "    CVaR is the expected value of the worst percents of the scores.\n",
    "    \"\"\"\n",
    "    assert 0 < percent < 100\n",
    "    if not isinstance(scores, pd.Series):\n",
    "        scores = pd.Series(scores)\n",
    "    quantile = scores.quantile(percent / 100)\n",
    "    return scores[scores <= quantile].mean()\n",
    "    \n",
    "cvar(np.arange(100), percent=25)"
   ]
  },
  {
   "attachments": {},
   "cell_type": "markdown",
   "metadata": {},
   "source": [
    "### DQN"
   ]
  },
  {
   "cell_type": "code",
   "execution_count": 11,
   "metadata": {},
   "outputs": [],
   "source": [
    "class DQN(lightning.LightningModule, Agent):\n",
    "    def __init__(\n",
    "        self,\n",
    "        model_config: dict[str, Any],\n",
    "        num_actions: int,\n",
    "        use_double_dqn: bool,\n",
    "        optimizer_class: str,\n",
    "        use_pretrained_weights: str | None = None,\n",
    "        optimizer_config: dict[str, Any] = None,\n",
    "        make_env: Callable | None = None,\n",
    "        epsilon: float = 0.1,\n",
    "        tau: float = 1e-3,\n",
    "        gamma: float = 0.99,\n",
    "        use_vision: bool = True,\n",
    "    ) -> None:\n",
    "        super().__init__()\n",
    "        self.save_hyperparameters(ignore=[\"use_pretrained_weights\", \"make_env\"])\n",
    "        self.model_config = model_config\n",
    "\n",
    "        if optimizer_config is None:\n",
    "            optimizer_config = {}\n",
    "        self.optimizer_config = optimizer_config\n",
    "        self.optimizer_class = optimizer_class\n",
    "        \n",
    "        # TODO does it matter that they are initialized with the same weights?\n",
    "        if use_vision:\n",
    "            self.qnn = VisionQNet(**model_config, pretrained_weights=use_pretrained_weights)\n",
    "            self.qnn_target = VisionQNet(**model_config, pretrained_weights=use_pretrained_weights)\n",
    "        else:\n",
    "            if use_pretrained_weights is not None:\n",
    "                raise ValueError(\"Pretrained weights only supported for vision models\")\n",
    "            self.qnn = MlpQNet(**model_config)\n",
    "            self.qnn_target = MlpQNet(**model_config)\n",
    "        \n",
    "        self.loss_fn = torch.nn.MSELoss()\n",
    "\n",
    "        self.num_actions = num_actions\n",
    "        self.use_double_dqn = use_double_dqn\n",
    "        self.epsilon = epsilon\n",
    "        self.tau = tau\n",
    "        self.gamma = gamma\n",
    "\n",
    "        self.make_env = make_env\n",
    "        self.validation_step_scores = []\n",
    "\n",
    "    def forward(self, observations: torch.Tensor) -> torch.Tensor:\n",
    "        return self.qnn(observations)\n",
    "\n",
    "    def select_action(self, observations: torch.Tensor, greedy: bool = False) -> np.ndarray:\n",
    "        with torch.no_grad():\n",
    "            batch_size = observations.shape[0]\n",
    "            if greedy or random.random() > self.epsilon:\n",
    "                q_values = self.qnn(observations)\n",
    "                return q_values.argmax(dim=-1).cpu().numpy()\n",
    "            return np.random.randint(self.num_actions, size=batch_size)\n",
    "\n",
    "    def configure_optimizers(self):\n",
    "        optimizer_class = getattr(torch.optim, self.optimizer_class)\n",
    "        return optimizer_class(self.qnn.parameters(), **self.optimizer_config)\n",
    "\n",
    "    def training_step(self, batch: Transition, batch_idx):\n",
    "        bs = batch.reward.shape[0]\n",
    "        next_q_value = self.qnn_target(batch.next_state)\n",
    "\n",
    "        if self.use_double_dqn:\n",
    "            next_q_value_local = self.qnn(batch.next_state)\n",
    "            next_action = torch.argmax(next_q_value_local, dim=-1)\n",
    "            next_value_estimate = next_q_value[range(bs), next_action]\n",
    "        else:\n",
    "            next_value_estimate = torch.max(next_q_value, dim=-1).values\n",
    "        \n",
    "        td_target = batch.reward + self.gamma * next_value_estimate * (~batch.done)\n",
    "        td_target = td_target.detach()\n",
    "        td_pred = self.qnn(batch.state)[range(bs), batch.action]\n",
    "        td_error = self.loss_fn(td_pred, td_target)\n",
    "        self.log(\"td_error\", td_error)\n",
    "        return td_error\n",
    "    \n",
    "    def on_train_batch_end(self, outputs, batch, batch_idx) -> None:\n",
    "        self.soft_update_target_nn()\n",
    "        # TODO decay epsilon\n",
    "        # self.epsilon = max(self.epsilon_lb, self.epsilon_ub - self.global_step / self.epsilon_decay)\n",
    "        return super().on_train_batch_end(outputs, batch, batch_idx)\n",
    "\n",
    "    @torch.no_grad()\n",
    "    def soft_update_target_nn(self):\n",
    "        params = zip(self.qnn_target.parameters(), self.qnn.parameters())\n",
    "        for target_param, param in params:\n",
    "            target_param.copy_(self.tau * param + (1.0 - self.tau) * target_param)\n",
    "\n",
    "    def validation_step(self, batch, batch_idx):\n",
    "        scores = measure_scores_parallel(\n",
    "            agent=self,\n",
    "            make_env=self.make_env,\n",
    "            make_env_kwargs=batch,\n",
    "            select_action_kwargs={},#{\"greedy\": True},\n",
    "        )\n",
    "        scores = list(scores)\n",
    "        self.validation_step_scores.extend(scores)\n",
    "        return scores\n",
    "    \n",
    "    def on_validation_epoch_end(self):\n",
    "        scores = torch.tensor(self.validation_step_scores)\n",
    "        self.log_simulation_metrics(scores)\n",
    "        self.validation_step_scores.clear()\n",
    "\n",
    "    def simulation_metrics(self, scores: torch.Tensor | np.ndarray) -> dict[str, float]:\n",
    "        metrics = {\n",
    "            \"score/avg\": float(scores.mean()),\n",
    "            \"score/std\": float(scores.std()),\n",
    "            \"score/min\": float(scores.min()),\n",
    "            \"score/max\": float(scores.max()),\n",
    "            \"score/num_episodes\": float(len(scores)),\n",
    "        }\n",
    "        for p in [25, 50, 75]:\n",
    "            metrics[f\"score/percentile_{p}\"] = float(np.percentile(scores, p))\n",
    "            metrics[f\"score/cvar_{p}\"] = float(cvar(scores, percent=p))\n",
    "        return metrics\n",
    "\n",
    "    def log_simulation_metrics(self, scores: Iterable[float], metrics: dict[str, float] | None = None):\n",
    "        if metrics is None:\n",
    "            metrics = self.simulation_metrics(scores)\n",
    "\n",
    "        for logger in self.loggers:\n",
    "            if isinstance(logger, lightning.pytorch.loggers.WandbLogger):\n",
    "                logger.log_metrics({f\"score/score\": wandb.Histogram(scores)}, step=self.global_step)\n",
    "        \n",
    "        self.log_dict(metrics)\n",
    "            \n"
   ]
  },
  {
   "attachments": {},
   "cell_type": "markdown",
   "metadata": {},
   "source": [
    "### Experience collection"
   ]
  },
  {
   "cell_type": "code",
   "execution_count": 12,
   "metadata": {},
   "outputs": [],
   "source": [
    "class ParallelExperienceGenerator:\n",
    "    def __init__(\n",
    "        self,\n",
    "        agent: Agent,\n",
    "        make_env: Callable[[int | None, bool], gym.Env],\n",
    "        num_parallel_envs: int,\n",
    "        make_env_kwargs: dict[str, Any] = None,\n",
    "    ) -> None:\n",
    "        if make_env_kwargs is None:\n",
    "            make_env_kwargs = {}\n",
    "\n",
    "        self.agent = agent\n",
    "        self.make_env = make_env\n",
    "        self.num_parallel_envs = num_parallel_envs\n",
    "        self.make_env_kwargs = make_env_kwargs\n",
    "\n",
    "        self.envs = gym.vector.AsyncVectorEnv([\n",
    "            lambda: make_env(**make_env_kwargs)\n",
    "            for _ in range(num_parallel_envs)\n",
    "        ])\n",
    "\n",
    "    def __iter__(self) -> Iterable[Transition]:\n",
    "        states = self.envs.reset()\n",
    "        while True:\n",
    "            actions = self.agent.select_action(states)\n",
    "            next_states, rewards, dones, _ = self.envs.step(actions)\n",
    "            for s, a, r, s_, d in zip(states, actions, rewards, next_states, dones):\n",
    "                yield Transition(s, a, r, s_, d)\n",
    "            states = next_states\n",
    "\n",
    "\n",
    "class ExperienceCollectionCallback(lightning.Callback):\n",
    "    def __init__(\n",
    "        self,\n",
    "        parallel_experience_generator: ParallelExperienceGenerator,\n",
    "        buffer: ReplayBuffer,\n",
    "        collect_every_n_steps: int,\n",
    "        collect_num_steps_in_each_env: int,\n",
    "    ) -> None:\n",
    "        super().__init__()\n",
    "        self.parallel_experience_collector = parallel_experience_generator\n",
    "        self.buffer = buffer\n",
    "        self.collect_every_n_steps = collect_every_n_steps\n",
    "        self.collect_num_steps_in_each_env = collect_num_steps_in_each_env\n",
    "        self.experience_iterator = iter(self.parallel_experience_collector)\n",
    "\n",
    "    def on_train_start(self, trainer, pl_module) -> None:\n",
    "        self.collect_experience()\n",
    "\n",
    "    def on_train_batch_end(self, trainer: lightning.Trainer, pl_module, outputs, batch, batch_idx) -> None:\n",
    "        if trainer.global_step % self.collect_every_n_steps == 0:\n",
    "            self.collect_experience()\n",
    "\n",
    "    def collect_experience(self):\n",
    "        for step in range(self.collect_num_steps_in_each_env):\n",
    "            transition = next(self.experience_iterator)\n",
    "            self.buffer.add(transition)\n"
   ]
  },
  {
   "attachments": {},
   "cell_type": "markdown",
   "metadata": {},
   "source": [
    "### Training Minigrid"
   ]
  },
  {
   "cell_type": "code",
   "execution_count": 13,
   "metadata": {},
   "outputs": [],
   "source": [
    "LR = 1e-4\n",
    "EPSILON = 0.1\n",
    "TAU = 0.01\n",
    "BATCH_SIZE = 128\n",
    "\n",
    "BUFFER_CAPACITY = 50_000\n",
    "COLLECT_EXP_NUM_PARALLEL_ENVS = 10\n",
    "COLLECT_EXP_EVERY_N_STEPS = 1000 # TODO\n",
    "COLLECT_EXP_NUM_STEPS_IN_EACH_ENV = 2500  # TODO\n",
    "\n",
    "VAL_CHECK_INTERVAL = 1000\n",
    "VAL_NUM_PARALLEL_ENVS = 10\n",
    "VAL_RUNS = 1"
   ]
  },
  {
   "cell_type": "code",
   "execution_count": 14,
   "metadata": {},
   "outputs": [],
   "source": [
    "NUM_ACTIONS = env_minigrid.action_space.n\n",
    "USE_PRETRAINED_WEIGHTS = None\n",
    "\n",
    "mlp_config = {\n",
    "    \"num_actions\": NUM_ACTIONS,\n",
    "}\n",
    "make_env = make_env_minigrid\n",
    "\n",
    "dqn = DQN(\n",
    "    make_env = make_env,\n",
    "    model_config = mlp_config,\n",
    "    use_vision = False,\n",
    "    num_actions = NUM_ACTIONS,\n",
    "    use_double_dqn = False,\n",
    "    optimizer_class = \"AdamW\",\n",
    "    optimizer_config = dict(lr=LR),\n",
    "    epsilon = EPSILON,\n",
    "    tau = TAU,\n",
    "    use_pretrained_weights=USE_PRETRAINED_WEIGHTS,\n",
    ")"
   ]
  },
  {
   "cell_type": "code",
   "execution_count": 15,
   "metadata": {},
   "outputs": [],
   "source": [
    "buffer = ReplayBuffer(\n",
    "    capacity = BUFFER_CAPACITY,\n",
    "    seed = 42\n",
    ")"
   ]
  },
  {
   "cell_type": "code",
   "execution_count": 16,
   "metadata": {},
   "outputs": [],
   "source": [
    "experience_generator = ParallelExperienceGenerator(\n",
    "    agent = dqn,\n",
    "    make_env = make_env,\n",
    "    num_parallel_envs = COLLECT_EXP_NUM_PARALLEL_ENVS,\n",
    ")"
   ]
  },
  {
   "cell_type": "code",
   "execution_count": 17,
   "metadata": {},
   "outputs": [],
   "source": [
    "experience_collection_callback = ExperienceCollectionCallback(\n",
    "    parallel_experience_generator = experience_generator,\n",
    "    buffer = buffer,\n",
    "    collect_every_n_steps = COLLECT_EXP_EVERY_N_STEPS,\n",
    "    collect_num_steps_in_each_env = COLLECT_EXP_NUM_STEPS_IN_EACH_ENV,\n",
    ")"
   ]
  },
  {
   "cell_type": "code",
   "execution_count": 18,
   "metadata": {},
   "outputs": [
    {
     "name": "stderr",
     "output_type": "stream",
     "text": [
      "Failed to detect the name of this notebook, you can set it manually with the WANDB_NOTEBOOK_NAME environment variable to enable code saving.\n",
      "\u001b[34m\u001b[1mwandb\u001b[0m: Currently logged in as: \u001b[33mmarkcheeky\u001b[0m. Use \u001b[1m`wandb login --relogin`\u001b[0m to force relogin\n"
     ]
    },
    {
     "data": {
      "text/html": [
       "wandb version 0.15.3 is available!  To upgrade, please run:\n",
       " $ pip install wandb --upgrade"
      ],
      "text/plain": [
       "<IPython.core.display.HTML object>"
      ]
     },
     "metadata": {},
     "output_type": "display_data"
    },
    {
     "data": {
      "text/html": [
       "Tracking run with wandb version 0.14.0"
      ],
      "text/plain": [
       "<IPython.core.display.HTML object>"
      ]
     },
     "metadata": {},
     "output_type": "display_data"
    },
    {
     "data": {
      "text/html": [
       "Run data is saved locally in <code>./wandb/wandb/run-20230528_133837-rp1pv8ra</code>"
      ],
      "text/plain": [
       "<IPython.core.display.HTML object>"
      ]
     },
     "metadata": {},
     "output_type": "display_data"
    },
    {
     "data": {
      "text/html": [
       "Syncing run <strong><a href='https://wandb.ai/markcheeky/jku-deep-rl_dqn/runs/rp1pv8ra' target=\"_blank\">laced-blaze-79</a></strong> to <a href='https://wandb.ai/markcheeky/jku-deep-rl_dqn' target=\"_blank\">Weights & Biases</a> (<a href='https://wandb.me/run' target=\"_blank\">docs</a>)<br/>"
      ],
      "text/plain": [
       "<IPython.core.display.HTML object>"
      ]
     },
     "metadata": {},
     "output_type": "display_data"
    },
    {
     "data": {
      "text/html": [
       " View project at <a href='https://wandb.ai/markcheeky/jku-deep-rl_dqn' target=\"_blank\">https://wandb.ai/markcheeky/jku-deep-rl_dqn</a>"
      ],
      "text/plain": [
       "<IPython.core.display.HTML object>"
      ]
     },
     "metadata": {},
     "output_type": "display_data"
    },
    {
     "data": {
      "text/html": [
       " View run at <a href='https://wandb.ai/markcheeky/jku-deep-rl_dqn/runs/rp1pv8ra' target=\"_blank\">https://wandb.ai/markcheeky/jku-deep-rl_dqn/runs/rp1pv8ra</a>"
      ],
      "text/plain": [
       "<IPython.core.display.HTML object>"
      ]
     },
     "metadata": {},
     "output_type": "display_data"
    }
   ],
   "source": [
    "os.makedirs(\"./wandb\", exist_ok=True)\n",
    "\n",
    "wandb_logger = lightning.pytorch.loggers.WandbLogger(\n",
    "    project=\"jku-deep-rl_dqn\",\n",
    "    group=\"dqn-minigrid\",\n",
    "    save_dir=\"./wandb\",\n",
    ")"
   ]
  },
  {
   "cell_type": "code",
   "execution_count": 19,
   "metadata": {},
   "outputs": [],
   "source": [
    "wandb_logger.experiment.config.update({\n",
    "    \"use_pretrained_weights\": USE_PRETRAINED_WEIGHTS,\n",
    "    \"buffer_capacity\": BUFFER_CAPACITY,\n",
    "    \"collect_experience\": {\n",
    "        \"num_parallel_envs\": COLLECT_EXP_NUM_PARALLEL_ENVS,\n",
    "        \"every_n_steps\": COLLECT_EXP_EVERY_N_STEPS,\n",
    "        \"num_steps_in_each_env\": COLLECT_EXP_NUM_STEPS_IN_EACH_ENV,\n",
    "    }\n",
    "})\n",
    "\n",
    "wandb_logger.experiment.tags += (\n",
    "    \"double-dqn-on\" if dqn.use_double_dqn else \"double-dqn-off\",\n",
    "    f\"init-pretrained-{USE_PRETRAINED_WEIGHTS}\",\n",
    ")\n",
    "\n",
    "if \"architecture\" in dqn.model_config:\n",
    "    wandb_logger.experiment.tags += (\n",
    "        f\"architecture-{dqn.model_config['architecture']}\"\n",
    "    )\n"
   ]
  },
  {
   "cell_type": "code",
   "execution_count": 20,
   "metadata": {},
   "outputs": [],
   "source": [
    "checkpointing = lightning.pytorch.callbacks.ModelCheckpoint(\n",
    "    monitor=\"score/avg\",\n",
    "    mode=\"max\",\n",
    "    save_last=True,\n",
    "    save_top_k=10,\n",
    "    dirpath=f\"checkpoints/{wandb_logger.experiment.name}/\",\n",
    "    filename=\"step={step}_score_avg={score/avg:.2f}\",\n",
    "    auto_insert_metric_name=False,\n",
    ")"
   ]
  },
  {
   "cell_type": "code",
   "execution_count": 21,
   "metadata": {},
   "outputs": [
    {
     "name": "stderr",
     "output_type": "stream",
     "text": [
      "/var/tmp/xkadlci2/.conda/envs/drl-dqn/lib/python3.8/site-packages/lightning/pytorch/trainer/connectors/accelerator_connector.py:509: UserWarning: You passed `Trainer(accelerator='cpu', precision='16-mixed')` but AMP with fp16 is not supported on CPU. Using `precision='bf16-mixed'` instead.\n",
      "  rank_zero_warn(\n",
      "Using bfloat16 Automatic Mixed Precision (AMP)\n",
      "GPU available: True (cuda), used: False\n",
      "TPU available: False, using: 0 TPU cores\n",
      "IPU available: False, using: 0 IPUs\n",
      "HPU available: False, using: 0 HPUs\n",
      "/var/tmp/xkadlci2/.conda/envs/drl-dqn/lib/python3.8/site-packages/lightning/pytorch/trainer/setup.py:176: PossibleUserWarning: GPU available but not used. Set `accelerator` and `devices` using `Trainer(accelerator='gpu', devices=13)`.\n",
      "  rank_zero_warn(\n"
     ]
    }
   ],
   "source": [
    "trainer = lightning.Trainer(\n",
    "    logger = wandb_logger,\n",
    "    max_epochs = -1,\n",
    "    val_check_interval = VAL_CHECK_INTERVAL,\n",
    "    #devices = [0],\n",
    "    precision=\"16-mixed\",\n",
    "    accelerator=\"cpu\",\n",
    "    callbacks=[\n",
    "        experience_collection_callback,\n",
    "        checkpointing,\n",
    "    ]\n",
    ")"
   ]
  },
  {
   "cell_type": "code",
   "execution_count": 22,
   "metadata": {},
   "outputs": [],
   "source": [
    "train_loader = torch.utils.data.DataLoader(\n",
    "    buffer,\n",
    "    batch_size = BATCH_SIZE,\n",
    "    pin_memory = True,\n",
    "    shuffle = False, # ReplayBuffer already samples randomly\n",
    ")\n",
    "\n",
    "valid_make_env_kwargs = [\n",
    "    {} for i in range(VAL_NUM_PARALLEL_ENVS)\n",
    "]\n",
    "\n",
    "# validation loader just gives parameters for creating the gym env\n",
    "valid_loader = torch.utils.data.DataLoader(\n",
    "    [valid_make_env_kwargs] * VAL_RUNS,\n",
    "    batch_size = 1,\n",
    "    shuffle = False,\n",
    "    drop_last = False,\n",
    ")\n"
   ]
  },
  {
   "cell_type": "code",
   "execution_count": 23,
   "metadata": {},
   "outputs": [
    {
     "name": "stderr",
     "output_type": "stream",
     "text": [
      "\n",
      "  | Name       | Type    | Params\n",
      "---------------------------------------\n",
      "0 | qnn        | MlpQNet | 120 K \n",
      "1 | qnn_target | MlpQNet | 120 K \n",
      "2 | loss_fn    | MSELoss | 0     \n",
      "---------------------------------------\n",
      "241 K     Trainable params\n",
      "0         Non-trainable params\n",
      "241 K     Total params\n",
      "0.965     Total estimated model params size (MB)\n"
     ]
    },
    {
     "data": {
      "application/vnd.jupyter.widget-view+json": {
       "model_id": "bd94a52dc92941d5adc98af10f2ce9f8",
       "version_major": 2,
       "version_minor": 0
      },
      "text/plain": [
       "Sanity Checking: 0it [00:00, ?it/s]"
      ]
     },
     "metadata": {},
     "output_type": "display_data"
    },
    {
     "name": "stderr",
     "output_type": "stream",
     "text": [
      "/var/tmp/xkadlci2/.conda/envs/drl-dqn/lib/python3.8/site-packages/lightning/pytorch/trainer/connectors/data_connector.py:430: PossibleUserWarning: The dataloader, val_dataloader, does not have many workers which may be a bottleneck. Consider increasing the value of the `num_workers` argument` (try 80 which is the number of cpus on this machine) in the `DataLoader` init to improve performance.\n",
      "  rank_zero_warn(\n",
      "/tmp/ipykernel_382491/480456487.py:15: UserWarning: No limit_steps provided and env does not have max_episode_steps set. This might lead to infinite loops.\n",
      "  warnings.warn(\"No limit_steps provided and env does not have max_episode_steps set. This might lead to infinite loops.\")\n"
     ]
    },
    {
     "data": {
      "application/vnd.jupyter.widget-view+json": {
       "model_id": "491dd79bb4844e70ad59b6af768d56fa",
       "version_major": 2,
       "version_minor": 0
      },
      "text/plain": [
       "Measuring score - step: 0it [00:00, ?it/s]"
      ]
     },
     "metadata": {},
     "output_type": "display_data"
    },
    {
     "name": "stderr",
     "output_type": "stream",
     "text": [
      "/var/tmp/xkadlci2/.conda/envs/drl-dqn/lib/python3.8/site-packages/lightning/pytorch/trainer/connectors/data_connector.py:430: PossibleUserWarning: The dataloader, train_dataloader, does not have many workers which may be a bottleneck. Consider increasing the value of the `num_workers` argument` (try 80 which is the number of cpus on this machine) in the `DataLoader` init to improve performance.\n",
      "  rank_zero_warn(\n",
      "/var/tmp/xkadlci2/.conda/envs/drl-dqn/lib/python3.8/site-packages/lightning/pytorch/utilities/data.py:105: UserWarning: Total length of `CombinedLoader` across ranks is zero. Please make sure this was your intention.\n",
      "  rank_zero_warn(\n"
     ]
    },
    {
     "data": {
      "application/vnd.jupyter.widget-view+json": {
       "model_id": "298e6910b5c84c19aaf86a937c2aa350",
       "version_major": 2,
       "version_minor": 0
      },
      "text/plain": [
       "Training: 0it [00:00, ?it/s]"
      ]
     },
     "metadata": {},
     "output_type": "display_data"
    },
    {
     "data": {
      "application/vnd.jupyter.widget-view+json": {
       "model_id": "1ada4ebfa5e14c4d91b8a32be6aecf46",
       "version_major": 2,
       "version_minor": 0
      },
      "text/plain": [
       "Validation: 0it [00:00, ?it/s]"
      ]
     },
     "metadata": {},
     "output_type": "display_data"
    },
    {
     "name": "stderr",
     "output_type": "stream",
     "text": [
      "/tmp/ipykernel_382491/480456487.py:15: UserWarning: No limit_steps provided and env does not have max_episode_steps set. This might lead to infinite loops.\n",
      "  warnings.warn(\"No limit_steps provided and env does not have max_episode_steps set. This might lead to infinite loops.\")\n"
     ]
    },
    {
     "data": {
      "application/vnd.jupyter.widget-view+json": {
       "model_id": "c5107b3f07af477f9a1480201f1b719b",
       "version_major": 2,
       "version_minor": 0
      },
      "text/plain": [
       "Measuring score - step: 0it [00:00, ?it/s]"
      ]
     },
     "metadata": {},
     "output_type": "display_data"
    },
    {
     "data": {
      "application/vnd.jupyter.widget-view+json": {
       "model_id": "6565a391fdef47abb517f4521dfe4115",
       "version_major": 2,
       "version_minor": 0
      },
      "text/plain": [
       "Validation: 0it [00:00, ?it/s]"
      ]
     },
     "metadata": {},
     "output_type": "display_data"
    },
    {
     "name": "stderr",
     "output_type": "stream",
     "text": [
      "/tmp/ipykernel_382491/480456487.py:15: UserWarning: No limit_steps provided and env does not have max_episode_steps set. This might lead to infinite loops.\n",
      "  warnings.warn(\"No limit_steps provided and env does not have max_episode_steps set. This might lead to infinite loops.\")\n"
     ]
    },
    {
     "data": {
      "application/vnd.jupyter.widget-view+json": {
       "model_id": "4f58ad15776743fbb1d9957652ac44dc",
       "version_major": 2,
       "version_minor": 0
      },
      "text/plain": [
       "Measuring score - step: 0it [00:00, ?it/s]"
      ]
     },
     "metadata": {},
     "output_type": "display_data"
    },
    {
     "data": {
      "application/vnd.jupyter.widget-view+json": {
       "model_id": "82516f455696464ba70e109d2a47e0f6",
       "version_major": 2,
       "version_minor": 0
      },
      "text/plain": [
       "Validation: 0it [00:00, ?it/s]"
      ]
     },
     "metadata": {},
     "output_type": "display_data"
    },
    {
     "name": "stderr",
     "output_type": "stream",
     "text": [
      "/tmp/ipykernel_382491/480456487.py:15: UserWarning: No limit_steps provided and env does not have max_episode_steps set. This might lead to infinite loops.\n",
      "  warnings.warn(\"No limit_steps provided and env does not have max_episode_steps set. This might lead to infinite loops.\")\n"
     ]
    },
    {
     "data": {
      "application/vnd.jupyter.widget-view+json": {
       "model_id": "76e02365334f4f08ba104ff92003d9c5",
       "version_major": 2,
       "version_minor": 0
      },
      "text/plain": [
       "Measuring score - step: 0it [00:00, ?it/s]"
      ]
     },
     "metadata": {},
     "output_type": "display_data"
    },
    {
     "data": {
      "application/vnd.jupyter.widget-view+json": {
       "model_id": "fe411b51c42846a28ac61927d84f1195",
       "version_major": 2,
       "version_minor": 0
      },
      "text/plain": [
       "Validation: 0it [00:00, ?it/s]"
      ]
     },
     "metadata": {},
     "output_type": "display_data"
    },
    {
     "name": "stderr",
     "output_type": "stream",
     "text": [
      "/tmp/ipykernel_382491/480456487.py:15: UserWarning: No limit_steps provided and env does not have max_episode_steps set. This might lead to infinite loops.\n",
      "  warnings.warn(\"No limit_steps provided and env does not have max_episode_steps set. This might lead to infinite loops.\")\n"
     ]
    },
    {
     "data": {
      "application/vnd.jupyter.widget-view+json": {
       "model_id": "98f02a4566674b9da3e398ded4e8c207",
       "version_major": 2,
       "version_minor": 0
      },
      "text/plain": [
       "Measuring score - step: 0it [00:00, ?it/s]"
      ]
     },
     "metadata": {},
     "output_type": "display_data"
    },
    {
     "data": {
      "application/vnd.jupyter.widget-view+json": {
       "model_id": "1ffc4e8c6afb40d883682d1dde878d4b",
       "version_major": 2,
       "version_minor": 0
      },
      "text/plain": [
       "Validation: 0it [00:00, ?it/s]"
      ]
     },
     "metadata": {},
     "output_type": "display_data"
    },
    {
     "name": "stderr",
     "output_type": "stream",
     "text": [
      "/tmp/ipykernel_382491/480456487.py:15: UserWarning: No limit_steps provided and env does not have max_episode_steps set. This might lead to infinite loops.\n",
      "  warnings.warn(\"No limit_steps provided and env does not have max_episode_steps set. This might lead to infinite loops.\")\n"
     ]
    },
    {
     "data": {
      "application/vnd.jupyter.widget-view+json": {
       "model_id": "03c423cb42a04bd18ec35326107ddf6e",
       "version_major": 2,
       "version_minor": 0
      },
      "text/plain": [
       "Measuring score - step: 0it [00:00, ?it/s]"
      ]
     },
     "metadata": {},
     "output_type": "display_data"
    },
    {
     "data": {
      "application/vnd.jupyter.widget-view+json": {
       "model_id": "ce3cb4cc57dd4e4f921cd802b0a84ed1",
       "version_major": 2,
       "version_minor": 0
      },
      "text/plain": [
       "Validation: 0it [00:00, ?it/s]"
      ]
     },
     "metadata": {},
     "output_type": "display_data"
    },
    {
     "name": "stderr",
     "output_type": "stream",
     "text": [
      "/tmp/ipykernel_382491/480456487.py:15: UserWarning: No limit_steps provided and env does not have max_episode_steps set. This might lead to infinite loops.\n",
      "  warnings.warn(\"No limit_steps provided and env does not have max_episode_steps set. This might lead to infinite loops.\")\n"
     ]
    },
    {
     "data": {
      "application/vnd.jupyter.widget-view+json": {
       "model_id": "52a3f6a513f547628f988920e08b6146",
       "version_major": 2,
       "version_minor": 0
      },
      "text/plain": [
       "Measuring score - step: 0it [00:00, ?it/s]"
      ]
     },
     "metadata": {},
     "output_type": "display_data"
    },
    {
     "data": {
      "application/vnd.jupyter.widget-view+json": {
       "model_id": "c32856e62ecf4e08afe6ee47d2d1c9e8",
       "version_major": 2,
       "version_minor": 0
      },
      "text/plain": [
       "Validation: 0it [00:00, ?it/s]"
      ]
     },
     "metadata": {},
     "output_type": "display_data"
    },
    {
     "name": "stderr",
     "output_type": "stream",
     "text": [
      "/tmp/ipykernel_382491/480456487.py:15: UserWarning: No limit_steps provided and env does not have max_episode_steps set. This might lead to infinite loops.\n",
      "  warnings.warn(\"No limit_steps provided and env does not have max_episode_steps set. This might lead to infinite loops.\")\n"
     ]
    },
    {
     "data": {
      "application/vnd.jupyter.widget-view+json": {
       "model_id": "1692ef898d5543fd98a559be9519f388",
       "version_major": 2,
       "version_minor": 0
      },
      "text/plain": [
       "Measuring score - step: 0it [00:00, ?it/s]"
      ]
     },
     "metadata": {},
     "output_type": "display_data"
    },
    {
     "data": {
      "application/vnd.jupyter.widget-view+json": {
       "model_id": "2a543a00c410440c971948bf36ee6e90",
       "version_major": 2,
       "version_minor": 0
      },
      "text/plain": [
       "Validation: 0it [00:00, ?it/s]"
      ]
     },
     "metadata": {},
     "output_type": "display_data"
    },
    {
     "name": "stderr",
     "output_type": "stream",
     "text": [
      "/tmp/ipykernel_382491/480456487.py:15: UserWarning: No limit_steps provided and env does not have max_episode_steps set. This might lead to infinite loops.\n",
      "  warnings.warn(\"No limit_steps provided and env does not have max_episode_steps set. This might lead to infinite loops.\")\n"
     ]
    },
    {
     "data": {
      "application/vnd.jupyter.widget-view+json": {
       "model_id": "3a73ce27ed254385a125b3c9028ca69d",
       "version_major": 2,
       "version_minor": 0
      },
      "text/plain": [
       "Measuring score - step: 0it [00:00, ?it/s]"
      ]
     },
     "metadata": {},
     "output_type": "display_data"
    },
    {
     "data": {
      "application/vnd.jupyter.widget-view+json": {
       "model_id": "10f07345ed0d4084bf378c19cf5c0ec0",
       "version_major": 2,
       "version_minor": 0
      },
      "text/plain": [
       "Validation: 0it [00:00, ?it/s]"
      ]
     },
     "metadata": {},
     "output_type": "display_data"
    },
    {
     "name": "stderr",
     "output_type": "stream",
     "text": [
      "/tmp/ipykernel_382491/480456487.py:15: UserWarning: No limit_steps provided and env does not have max_episode_steps set. This might lead to infinite loops.\n",
      "  warnings.warn(\"No limit_steps provided and env does not have max_episode_steps set. This might lead to infinite loops.\")\n"
     ]
    },
    {
     "data": {
      "application/vnd.jupyter.widget-view+json": {
       "model_id": "fe8a731c00df4cafb7c4f14453bd13e6",
       "version_major": 2,
       "version_minor": 0
      },
      "text/plain": [
       "Measuring score - step: 0it [00:00, ?it/s]"
      ]
     },
     "metadata": {},
     "output_type": "display_data"
    },
    {
     "data": {
      "application/vnd.jupyter.widget-view+json": {
       "model_id": "bddb5e2c34d5424e8f597998264689cc",
       "version_major": 2,
       "version_minor": 0
      },
      "text/plain": [
       "Validation: 0it [00:00, ?it/s]"
      ]
     },
     "metadata": {},
     "output_type": "display_data"
    },
    {
     "name": "stderr",
     "output_type": "stream",
     "text": [
      "/tmp/ipykernel_382491/480456487.py:15: UserWarning: No limit_steps provided and env does not have max_episode_steps set. This might lead to infinite loops.\n",
      "  warnings.warn(\"No limit_steps provided and env does not have max_episode_steps set. This might lead to infinite loops.\")\n"
     ]
    },
    {
     "data": {
      "application/vnd.jupyter.widget-view+json": {
       "model_id": "ca8e24105dbf4da6b7ba0ae9ac67cc60",
       "version_major": 2,
       "version_minor": 0
      },
      "text/plain": [
       "Measuring score - step: 0it [00:00, ?it/s]"
      ]
     },
     "metadata": {},
     "output_type": "display_data"
    },
    {
     "data": {
      "application/vnd.jupyter.widget-view+json": {
       "model_id": "c1518f2cbc7946ba9ab7c13d6b475452",
       "version_major": 2,
       "version_minor": 0
      },
      "text/plain": [
       "Validation: 0it [00:00, ?it/s]"
      ]
     },
     "metadata": {},
     "output_type": "display_data"
    },
    {
     "name": "stderr",
     "output_type": "stream",
     "text": [
      "/tmp/ipykernel_382491/480456487.py:15: UserWarning: No limit_steps provided and env does not have max_episode_steps set. This might lead to infinite loops.\n",
      "  warnings.warn(\"No limit_steps provided and env does not have max_episode_steps set. This might lead to infinite loops.\")\n"
     ]
    },
    {
     "data": {
      "application/vnd.jupyter.widget-view+json": {
       "model_id": "a5c5dea98c08441b83f481b4f8d984f2",
       "version_major": 2,
       "version_minor": 0
      },
      "text/plain": [
       "Measuring score - step: 0it [00:00, ?it/s]"
      ]
     },
     "metadata": {},
     "output_type": "display_data"
    },
    {
     "data": {
      "application/vnd.jupyter.widget-view+json": {
       "model_id": "7f916be8d0ed4a2da4f891bc0b08d13b",
       "version_major": 2,
       "version_minor": 0
      },
      "text/plain": [
       "Validation: 0it [00:00, ?it/s]"
      ]
     },
     "metadata": {},
     "output_type": "display_data"
    },
    {
     "name": "stderr",
     "output_type": "stream",
     "text": [
      "/tmp/ipykernel_382491/480456487.py:15: UserWarning: No limit_steps provided and env does not have max_episode_steps set. This might lead to infinite loops.\n",
      "  warnings.warn(\"No limit_steps provided and env does not have max_episode_steps set. This might lead to infinite loops.\")\n"
     ]
    },
    {
     "data": {
      "application/vnd.jupyter.widget-view+json": {
       "model_id": "9d924b3d49874193ac131d9ded1381cb",
       "version_major": 2,
       "version_minor": 0
      },
      "text/plain": [
       "Measuring score - step: 0it [00:00, ?it/s]"
      ]
     },
     "metadata": {},
     "output_type": "display_data"
    },
    {
     "data": {
      "application/vnd.jupyter.widget-view+json": {
       "model_id": "433a44abed434b9596a52a6ca0c01fae",
       "version_major": 2,
       "version_minor": 0
      },
      "text/plain": [
       "Validation: 0it [00:00, ?it/s]"
      ]
     },
     "metadata": {},
     "output_type": "display_data"
    },
    {
     "name": "stderr",
     "output_type": "stream",
     "text": [
      "/tmp/ipykernel_382491/480456487.py:15: UserWarning: No limit_steps provided and env does not have max_episode_steps set. This might lead to infinite loops.\n",
      "  warnings.warn(\"No limit_steps provided and env does not have max_episode_steps set. This might lead to infinite loops.\")\n"
     ]
    },
    {
     "data": {
      "application/vnd.jupyter.widget-view+json": {
       "model_id": "ed47171cf52f4f129c30dbb94a041322",
       "version_major": 2,
       "version_minor": 0
      },
      "text/plain": [
       "Measuring score - step: 0it [00:00, ?it/s]"
      ]
     },
     "metadata": {},
     "output_type": "display_data"
    },
    {
     "data": {
      "application/vnd.jupyter.widget-view+json": {
       "model_id": "72b00c48a8d4404ba6d7171a5269255c",
       "version_major": 2,
       "version_minor": 0
      },
      "text/plain": [
       "Validation: 0it [00:00, ?it/s]"
      ]
     },
     "metadata": {},
     "output_type": "display_data"
    },
    {
     "name": "stderr",
     "output_type": "stream",
     "text": [
      "/tmp/ipykernel_382491/480456487.py:15: UserWarning: No limit_steps provided and env does not have max_episode_steps set. This might lead to infinite loops.\n",
      "  warnings.warn(\"No limit_steps provided and env does not have max_episode_steps set. This might lead to infinite loops.\")\n"
     ]
    },
    {
     "data": {
      "application/vnd.jupyter.widget-view+json": {
       "model_id": "4b75b4749cff4f14a65961814773f44c",
       "version_major": 2,
       "version_minor": 0
      },
      "text/plain": [
       "Measuring score - step: 0it [00:00, ?it/s]"
      ]
     },
     "metadata": {},
     "output_type": "display_data"
    },
    {
     "data": {
      "application/vnd.jupyter.widget-view+json": {
       "model_id": "63c5b808826d4256b54a10c04de24f4d",
       "version_major": 2,
       "version_minor": 0
      },
      "text/plain": [
       "Validation: 0it [00:00, ?it/s]"
      ]
     },
     "metadata": {},
     "output_type": "display_data"
    },
    {
     "name": "stderr",
     "output_type": "stream",
     "text": [
      "/tmp/ipykernel_382491/480456487.py:15: UserWarning: No limit_steps provided and env does not have max_episode_steps set. This might lead to infinite loops.\n",
      "  warnings.warn(\"No limit_steps provided and env does not have max_episode_steps set. This might lead to infinite loops.\")\n"
     ]
    },
    {
     "data": {
      "application/vnd.jupyter.widget-view+json": {
       "model_id": "50ab4fcf1894444f8e123cc6dc7e943b",
       "version_major": 2,
       "version_minor": 0
      },
      "text/plain": [
       "Measuring score - step: 0it [00:00, ?it/s]"
      ]
     },
     "metadata": {},
     "output_type": "display_data"
    },
    {
     "data": {
      "application/vnd.jupyter.widget-view+json": {
       "model_id": "b1ef1e33900247dbb89777a4bea00c1d",
       "version_major": 2,
       "version_minor": 0
      },
      "text/plain": [
       "Validation: 0it [00:00, ?it/s]"
      ]
     },
     "metadata": {},
     "output_type": "display_data"
    },
    {
     "name": "stderr",
     "output_type": "stream",
     "text": [
      "/tmp/ipykernel_382491/480456487.py:15: UserWarning: No limit_steps provided and env does not have max_episode_steps set. This might lead to infinite loops.\n",
      "  warnings.warn(\"No limit_steps provided and env does not have max_episode_steps set. This might lead to infinite loops.\")\n"
     ]
    },
    {
     "data": {
      "application/vnd.jupyter.widget-view+json": {
       "model_id": "5fa26dd673ca4944bb11b71fa4b7e94a",
       "version_major": 2,
       "version_minor": 0
      },
      "text/plain": [
       "Measuring score - step: 0it [00:00, ?it/s]"
      ]
     },
     "metadata": {},
     "output_type": "display_data"
    },
    {
     "data": {
      "application/vnd.jupyter.widget-view+json": {
       "model_id": "5d052bc5a7d14588b4953a87ac014f8b",
       "version_major": 2,
       "version_minor": 0
      },
      "text/plain": [
       "Validation: 0it [00:00, ?it/s]"
      ]
     },
     "metadata": {},
     "output_type": "display_data"
    },
    {
     "name": "stderr",
     "output_type": "stream",
     "text": [
      "/tmp/ipykernel_382491/480456487.py:15: UserWarning: No limit_steps provided and env does not have max_episode_steps set. This might lead to infinite loops.\n",
      "  warnings.warn(\"No limit_steps provided and env does not have max_episode_steps set. This might lead to infinite loops.\")\n"
     ]
    },
    {
     "data": {
      "application/vnd.jupyter.widget-view+json": {
       "model_id": "eab9c371d880444aab655767afd61a1b",
       "version_major": 2,
       "version_minor": 0
      },
      "text/plain": [
       "Measuring score - step: 0it [00:00, ?it/s]"
      ]
     },
     "metadata": {},
     "output_type": "display_data"
    },
    {
     "data": {
      "application/vnd.jupyter.widget-view+json": {
       "model_id": "a0ed1c33cac34193bfd31d839b8a1621",
       "version_major": 2,
       "version_minor": 0
      },
      "text/plain": [
       "Validation: 0it [00:00, ?it/s]"
      ]
     },
     "metadata": {},
     "output_type": "display_data"
    },
    {
     "name": "stderr",
     "output_type": "stream",
     "text": [
      "/tmp/ipykernel_382491/480456487.py:15: UserWarning: No limit_steps provided and env does not have max_episode_steps set. This might lead to infinite loops.\n",
      "  warnings.warn(\"No limit_steps provided and env does not have max_episode_steps set. This might lead to infinite loops.\")\n"
     ]
    },
    {
     "data": {
      "application/vnd.jupyter.widget-view+json": {
       "model_id": "a01dcd0a7dad468ab1e6a6b1bb7344a6",
       "version_major": 2,
       "version_minor": 0
      },
      "text/plain": [
       "Measuring score - step: 0it [00:00, ?it/s]"
      ]
     },
     "metadata": {},
     "output_type": "display_data"
    },
    {
     "data": {
      "application/vnd.jupyter.widget-view+json": {
       "model_id": "ac59f89ef4eb4622b3eab1ef0da54f40",
       "version_major": 2,
       "version_minor": 0
      },
      "text/plain": [
       "Validation: 0it [00:00, ?it/s]"
      ]
     },
     "metadata": {},
     "output_type": "display_data"
    },
    {
     "name": "stderr",
     "output_type": "stream",
     "text": [
      "/tmp/ipykernel_382491/480456487.py:15: UserWarning: No limit_steps provided and env does not have max_episode_steps set. This might lead to infinite loops.\n",
      "  warnings.warn(\"No limit_steps provided and env does not have max_episode_steps set. This might lead to infinite loops.\")\n"
     ]
    },
    {
     "data": {
      "application/vnd.jupyter.widget-view+json": {
       "model_id": "e09bf0eea01b4224ab698055603083d7",
       "version_major": 2,
       "version_minor": 0
      },
      "text/plain": [
       "Measuring score - step: 0it [00:00, ?it/s]"
      ]
     },
     "metadata": {},
     "output_type": "display_data"
    },
    {
     "data": {
      "application/vnd.jupyter.widget-view+json": {
       "model_id": "d3afc059cdbe4e7e9cf15e4ee45de109",
       "version_major": 2,
       "version_minor": 0
      },
      "text/plain": [
       "Validation: 0it [00:00, ?it/s]"
      ]
     },
     "metadata": {},
     "output_type": "display_data"
    },
    {
     "name": "stderr",
     "output_type": "stream",
     "text": [
      "/tmp/ipykernel_382491/480456487.py:15: UserWarning: No limit_steps provided and env does not have max_episode_steps set. This might lead to infinite loops.\n",
      "  warnings.warn(\"No limit_steps provided and env does not have max_episode_steps set. This might lead to infinite loops.\")\n"
     ]
    },
    {
     "data": {
      "application/vnd.jupyter.widget-view+json": {
       "model_id": "af98f0a0e01d414e9d02265cbcc0dd1c",
       "version_major": 2,
       "version_minor": 0
      },
      "text/plain": [
       "Measuring score - step: 0it [00:00, ?it/s]"
      ]
     },
     "metadata": {},
     "output_type": "display_data"
    },
    {
     "data": {
      "application/vnd.jupyter.widget-view+json": {
       "model_id": "43380e7d7dc840c19a68ab9f7e09251b",
       "version_major": 2,
       "version_minor": 0
      },
      "text/plain": [
       "Validation: 0it [00:00, ?it/s]"
      ]
     },
     "metadata": {},
     "output_type": "display_data"
    },
    {
     "name": "stderr",
     "output_type": "stream",
     "text": [
      "/tmp/ipykernel_382491/480456487.py:15: UserWarning: No limit_steps provided and env does not have max_episode_steps set. This might lead to infinite loops.\n",
      "  warnings.warn(\"No limit_steps provided and env does not have max_episode_steps set. This might lead to infinite loops.\")\n"
     ]
    },
    {
     "data": {
      "application/vnd.jupyter.widget-view+json": {
       "model_id": "aad0c7bcf48743f1b95615663d035366",
       "version_major": 2,
       "version_minor": 0
      },
      "text/plain": [
       "Measuring score - step: 0it [00:00, ?it/s]"
      ]
     },
     "metadata": {},
     "output_type": "display_data"
    },
    {
     "data": {
      "application/vnd.jupyter.widget-view+json": {
       "model_id": "b155961285574aafb9625c8ddedcdc75",
       "version_major": 2,
       "version_minor": 0
      },
      "text/plain": [
       "Validation: 0it [00:00, ?it/s]"
      ]
     },
     "metadata": {},
     "output_type": "display_data"
    },
    {
     "name": "stderr",
     "output_type": "stream",
     "text": [
      "/tmp/ipykernel_382491/480456487.py:15: UserWarning: No limit_steps provided and env does not have max_episode_steps set. This might lead to infinite loops.\n",
      "  warnings.warn(\"No limit_steps provided and env does not have max_episode_steps set. This might lead to infinite loops.\")\n"
     ]
    },
    {
     "data": {
      "application/vnd.jupyter.widget-view+json": {
       "model_id": "85cfe0afdbf94d3f8e89ea12e896629d",
       "version_major": 2,
       "version_minor": 0
      },
      "text/plain": [
       "Measuring score - step: 0it [00:00, ?it/s]"
      ]
     },
     "metadata": {},
     "output_type": "display_data"
    },
    {
     "data": {
      "application/vnd.jupyter.widget-view+json": {
       "model_id": "866c503ca2034b4187c27ab9b0fa4e25",
       "version_major": 2,
       "version_minor": 0
      },
      "text/plain": [
       "Validation: 0it [00:00, ?it/s]"
      ]
     },
     "metadata": {},
     "output_type": "display_data"
    },
    {
     "name": "stderr",
     "output_type": "stream",
     "text": [
      "/tmp/ipykernel_382491/480456487.py:15: UserWarning: No limit_steps provided and env does not have max_episode_steps set. This might lead to infinite loops.\n",
      "  warnings.warn(\"No limit_steps provided and env does not have max_episode_steps set. This might lead to infinite loops.\")\n"
     ]
    },
    {
     "data": {
      "application/vnd.jupyter.widget-view+json": {
       "model_id": "ee4f431de1a148868b5d5c00b4d58abf",
       "version_major": 2,
       "version_minor": 0
      },
      "text/plain": [
       "Measuring score - step: 0it [00:00, ?it/s]"
      ]
     },
     "metadata": {},
     "output_type": "display_data"
    },
    {
     "data": {
      "application/vnd.jupyter.widget-view+json": {
       "model_id": "89e7a293b08642b98e16694908cce22d",
       "version_major": 2,
       "version_minor": 0
      },
      "text/plain": [
       "Validation: 0it [00:00, ?it/s]"
      ]
     },
     "metadata": {},
     "output_type": "display_data"
    },
    {
     "name": "stderr",
     "output_type": "stream",
     "text": [
      "/tmp/ipykernel_382491/480456487.py:15: UserWarning: No limit_steps provided and env does not have max_episode_steps set. This might lead to infinite loops.\n",
      "  warnings.warn(\"No limit_steps provided and env does not have max_episode_steps set. This might lead to infinite loops.\")\n"
     ]
    },
    {
     "data": {
      "application/vnd.jupyter.widget-view+json": {
       "model_id": "67be1b204d9f4ce19d552e79bb5a26d5",
       "version_major": 2,
       "version_minor": 0
      },
      "text/plain": [
       "Measuring score - step: 0it [00:00, ?it/s]"
      ]
     },
     "metadata": {},
     "output_type": "display_data"
    },
    {
     "data": {
      "application/vnd.jupyter.widget-view+json": {
       "model_id": "5a0be261f89d4aab8dc5b7b4c215513f",
       "version_major": 2,
       "version_minor": 0
      },
      "text/plain": [
       "Validation: 0it [00:00, ?it/s]"
      ]
     },
     "metadata": {},
     "output_type": "display_data"
    },
    {
     "name": "stderr",
     "output_type": "stream",
     "text": [
      "/tmp/ipykernel_382491/480456487.py:15: UserWarning: No limit_steps provided and env does not have max_episode_steps set. This might lead to infinite loops.\n",
      "  warnings.warn(\"No limit_steps provided and env does not have max_episode_steps set. This might lead to infinite loops.\")\n"
     ]
    },
    {
     "data": {
      "application/vnd.jupyter.widget-view+json": {
       "model_id": "357dc6a704c248818fcffb82408e8e79",
       "version_major": 2,
       "version_minor": 0
      },
      "text/plain": [
       "Measuring score - step: 0it [00:00, ?it/s]"
      ]
     },
     "metadata": {},
     "output_type": "display_data"
    },
    {
     "data": {
      "application/vnd.jupyter.widget-view+json": {
       "model_id": "738075ff2ea24c5b92a9a5bfafba56ec",
       "version_major": 2,
       "version_minor": 0
      },
      "text/plain": [
       "Validation: 0it [00:00, ?it/s]"
      ]
     },
     "metadata": {},
     "output_type": "display_data"
    },
    {
     "name": "stderr",
     "output_type": "stream",
     "text": [
      "/tmp/ipykernel_382491/480456487.py:15: UserWarning: No limit_steps provided and env does not have max_episode_steps set. This might lead to infinite loops.\n",
      "  warnings.warn(\"No limit_steps provided and env does not have max_episode_steps set. This might lead to infinite loops.\")\n"
     ]
    },
    {
     "data": {
      "application/vnd.jupyter.widget-view+json": {
       "model_id": "3942fb7be5654fd69cc13ac314f256b7",
       "version_major": 2,
       "version_minor": 0
      },
      "text/plain": [
       "Measuring score - step: 0it [00:00, ?it/s]"
      ]
     },
     "metadata": {},
     "output_type": "display_data"
    },
    {
     "data": {
      "application/vnd.jupyter.widget-view+json": {
       "model_id": "adca81203b64410cb09f0f3f96824baa",
       "version_major": 2,
       "version_minor": 0
      },
      "text/plain": [
       "Validation: 0it [00:00, ?it/s]"
      ]
     },
     "metadata": {},
     "output_type": "display_data"
    },
    {
     "name": "stderr",
     "output_type": "stream",
     "text": [
      "/tmp/ipykernel_382491/480456487.py:15: UserWarning: No limit_steps provided and env does not have max_episode_steps set. This might lead to infinite loops.\n",
      "  warnings.warn(\"No limit_steps provided and env does not have max_episode_steps set. This might lead to infinite loops.\")\n"
     ]
    },
    {
     "data": {
      "application/vnd.jupyter.widget-view+json": {
       "model_id": "4c9a29204b6d4671b3ce618ad865a371",
       "version_major": 2,
       "version_minor": 0
      },
      "text/plain": [
       "Measuring score - step: 0it [00:00, ?it/s]"
      ]
     },
     "metadata": {},
     "output_type": "display_data"
    },
    {
     "data": {
      "application/vnd.jupyter.widget-view+json": {
       "model_id": "6ba9d7ed6d8b422b8c4495e73dc914a5",
       "version_major": 2,
       "version_minor": 0
      },
      "text/plain": [
       "Validation: 0it [00:00, ?it/s]"
      ]
     },
     "metadata": {},
     "output_type": "display_data"
    },
    {
     "name": "stderr",
     "output_type": "stream",
     "text": [
      "/tmp/ipykernel_382491/480456487.py:15: UserWarning: No limit_steps provided and env does not have max_episode_steps set. This might lead to infinite loops.\n",
      "  warnings.warn(\"No limit_steps provided and env does not have max_episode_steps set. This might lead to infinite loops.\")\n"
     ]
    },
    {
     "data": {
      "application/vnd.jupyter.widget-view+json": {
       "model_id": "a19be2ce10f64e1684620648ea9b3742",
       "version_major": 2,
       "version_minor": 0
      },
      "text/plain": [
       "Measuring score - step: 0it [00:00, ?it/s]"
      ]
     },
     "metadata": {},
     "output_type": "display_data"
    },
    {
     "data": {
      "application/vnd.jupyter.widget-view+json": {
       "model_id": "34e6059780cf4dd09f52e6bb806e2f67",
       "version_major": 2,
       "version_minor": 0
      },
      "text/plain": [
       "Validation: 0it [00:00, ?it/s]"
      ]
     },
     "metadata": {},
     "output_type": "display_data"
    },
    {
     "name": "stderr",
     "output_type": "stream",
     "text": [
      "/tmp/ipykernel_382491/480456487.py:15: UserWarning: No limit_steps provided and env does not have max_episode_steps set. This might lead to infinite loops.\n",
      "  warnings.warn(\"No limit_steps provided and env does not have max_episode_steps set. This might lead to infinite loops.\")\n"
     ]
    },
    {
     "data": {
      "application/vnd.jupyter.widget-view+json": {
       "model_id": "cb8eab0e03d1440fbfd9846f78357056",
       "version_major": 2,
       "version_minor": 0
      },
      "text/plain": [
       "Measuring score - step: 0it [00:00, ?it/s]"
      ]
     },
     "metadata": {},
     "output_type": "display_data"
    },
    {
     "data": {
      "application/vnd.jupyter.widget-view+json": {
       "model_id": "c812c08f7df142d8aad65f69234b9743",
       "version_major": 2,
       "version_minor": 0
      },
      "text/plain": [
       "Validation: 0it [00:00, ?it/s]"
      ]
     },
     "metadata": {},
     "output_type": "display_data"
    },
    {
     "name": "stderr",
     "output_type": "stream",
     "text": [
      "/tmp/ipykernel_382491/480456487.py:15: UserWarning: No limit_steps provided and env does not have max_episode_steps set. This might lead to infinite loops.\n",
      "  warnings.warn(\"No limit_steps provided and env does not have max_episode_steps set. This might lead to infinite loops.\")\n"
     ]
    },
    {
     "data": {
      "application/vnd.jupyter.widget-view+json": {
       "model_id": "ba5883fbc9f14ec29b7c3af159ac751c",
       "version_major": 2,
       "version_minor": 0
      },
      "text/plain": [
       "Measuring score - step: 0it [00:00, ?it/s]"
      ]
     },
     "metadata": {},
     "output_type": "display_data"
    },
    {
     "data": {
      "application/vnd.jupyter.widget-view+json": {
       "model_id": "0273f8373bc040e389a4867d97035bad",
       "version_major": 2,
       "version_minor": 0
      },
      "text/plain": [
       "Validation: 0it [00:00, ?it/s]"
      ]
     },
     "metadata": {},
     "output_type": "display_data"
    },
    {
     "name": "stderr",
     "output_type": "stream",
     "text": [
      "/tmp/ipykernel_382491/480456487.py:15: UserWarning: No limit_steps provided and env does not have max_episode_steps set. This might lead to infinite loops.\n",
      "  warnings.warn(\"No limit_steps provided and env does not have max_episode_steps set. This might lead to infinite loops.\")\n"
     ]
    },
    {
     "data": {
      "application/vnd.jupyter.widget-view+json": {
       "model_id": "f256e0b1257c467e980fe26d01261735",
       "version_major": 2,
       "version_minor": 0
      },
      "text/plain": [
       "Measuring score - step: 0it [00:00, ?it/s]"
      ]
     },
     "metadata": {},
     "output_type": "display_data"
    },
    {
     "data": {
      "application/vnd.jupyter.widget-view+json": {
       "model_id": "9d4df5f6b40742e4bf72d8ea147e7bdd",
       "version_major": 2,
       "version_minor": 0
      },
      "text/plain": [
       "Validation: 0it [00:00, ?it/s]"
      ]
     },
     "metadata": {},
     "output_type": "display_data"
    },
    {
     "name": "stderr",
     "output_type": "stream",
     "text": [
      "/tmp/ipykernel_382491/480456487.py:15: UserWarning: No limit_steps provided and env does not have max_episode_steps set. This might lead to infinite loops.\n",
      "  warnings.warn(\"No limit_steps provided and env does not have max_episode_steps set. This might lead to infinite loops.\")\n"
     ]
    },
    {
     "data": {
      "application/vnd.jupyter.widget-view+json": {
       "model_id": "8f262b17aa7f47edbb5d0e7730aef1b6",
       "version_major": 2,
       "version_minor": 0
      },
      "text/plain": [
       "Measuring score - step: 0it [00:00, ?it/s]"
      ]
     },
     "metadata": {},
     "output_type": "display_data"
    },
    {
     "data": {
      "application/vnd.jupyter.widget-view+json": {
       "model_id": "e72893a54381410ba6758b6d06675a46",
       "version_major": 2,
       "version_minor": 0
      },
      "text/plain": [
       "Validation: 0it [00:00, ?it/s]"
      ]
     },
     "metadata": {},
     "output_type": "display_data"
    },
    {
     "name": "stderr",
     "output_type": "stream",
     "text": [
      "/tmp/ipykernel_382491/480456487.py:15: UserWarning: No limit_steps provided and env does not have max_episode_steps set. This might lead to infinite loops.\n",
      "  warnings.warn(\"No limit_steps provided and env does not have max_episode_steps set. This might lead to infinite loops.\")\n"
     ]
    },
    {
     "data": {
      "application/vnd.jupyter.widget-view+json": {
       "model_id": "fe54010f5a30444facfccabf8c073edd",
       "version_major": 2,
       "version_minor": 0
      },
      "text/plain": [
       "Measuring score - step: 0it [00:00, ?it/s]"
      ]
     },
     "metadata": {},
     "output_type": "display_data"
    },
    {
     "data": {
      "application/vnd.jupyter.widget-view+json": {
       "model_id": "508730fc404e4687aee24653679d8e9a",
       "version_major": 2,
       "version_minor": 0
      },
      "text/plain": [
       "Validation: 0it [00:00, ?it/s]"
      ]
     },
     "metadata": {},
     "output_type": "display_data"
    },
    {
     "name": "stderr",
     "output_type": "stream",
     "text": [
      "/tmp/ipykernel_382491/480456487.py:15: UserWarning: No limit_steps provided and env does not have max_episode_steps set. This might lead to infinite loops.\n",
      "  warnings.warn(\"No limit_steps provided and env does not have max_episode_steps set. This might lead to infinite loops.\")\n"
     ]
    },
    {
     "data": {
      "application/vnd.jupyter.widget-view+json": {
       "model_id": "a1c8eab1c805459cac1ab7c80ddaebdf",
       "version_major": 2,
       "version_minor": 0
      },
      "text/plain": [
       "Measuring score - step: 0it [00:00, ?it/s]"
      ]
     },
     "metadata": {},
     "output_type": "display_data"
    },
    {
     "data": {
      "application/vnd.jupyter.widget-view+json": {
       "model_id": "54208786f8824864946f046b985beb5e",
       "version_major": 2,
       "version_minor": 0
      },
      "text/plain": [
       "Validation: 0it [00:00, ?it/s]"
      ]
     },
     "metadata": {},
     "output_type": "display_data"
    },
    {
     "name": "stderr",
     "output_type": "stream",
     "text": [
      "/tmp/ipykernel_382491/480456487.py:15: UserWarning: No limit_steps provided and env does not have max_episode_steps set. This might lead to infinite loops.\n",
      "  warnings.warn(\"No limit_steps provided and env does not have max_episode_steps set. This might lead to infinite loops.\")\n"
     ]
    },
    {
     "data": {
      "application/vnd.jupyter.widget-view+json": {
       "model_id": "72e1e59d88e94ea3bdcf70c136ea27f2",
       "version_major": 2,
       "version_minor": 0
      },
      "text/plain": [
       "Measuring score - step: 0it [00:00, ?it/s]"
      ]
     },
     "metadata": {},
     "output_type": "display_data"
    },
    {
     "data": {
      "application/vnd.jupyter.widget-view+json": {
       "model_id": "4d1c12aac39d4711a9f899ef3dcee70a",
       "version_major": 2,
       "version_minor": 0
      },
      "text/plain": [
       "Validation: 0it [00:00, ?it/s]"
      ]
     },
     "metadata": {},
     "output_type": "display_data"
    },
    {
     "name": "stderr",
     "output_type": "stream",
     "text": [
      "/tmp/ipykernel_382491/480456487.py:15: UserWarning: No limit_steps provided and env does not have max_episode_steps set. This might lead to infinite loops.\n",
      "  warnings.warn(\"No limit_steps provided and env does not have max_episode_steps set. This might lead to infinite loops.\")\n"
     ]
    },
    {
     "data": {
      "application/vnd.jupyter.widget-view+json": {
       "model_id": "2212225c7f434ff8ae029b9e8d01bcc3",
       "version_major": 2,
       "version_minor": 0
      },
      "text/plain": [
       "Measuring score - step: 0it [00:00, ?it/s]"
      ]
     },
     "metadata": {},
     "output_type": "display_data"
    },
    {
     "data": {
      "application/vnd.jupyter.widget-view+json": {
       "model_id": "d5d64ec8f6f04f3596f0d0f979b01199",
       "version_major": 2,
       "version_minor": 0
      },
      "text/plain": [
       "Validation: 0it [00:00, ?it/s]"
      ]
     },
     "metadata": {},
     "output_type": "display_data"
    },
    {
     "name": "stderr",
     "output_type": "stream",
     "text": [
      "/tmp/ipykernel_382491/480456487.py:15: UserWarning: No limit_steps provided and env does not have max_episode_steps set. This might lead to infinite loops.\n",
      "  warnings.warn(\"No limit_steps provided and env does not have max_episode_steps set. This might lead to infinite loops.\")\n"
     ]
    },
    {
     "data": {
      "application/vnd.jupyter.widget-view+json": {
       "model_id": "88aee18f7faf47b68c3a7c77e87e00c6",
       "version_major": 2,
       "version_minor": 0
      },
      "text/plain": [
       "Measuring score - step: 0it [00:00, ?it/s]"
      ]
     },
     "metadata": {},
     "output_type": "display_data"
    },
    {
     "data": {
      "application/vnd.jupyter.widget-view+json": {
       "model_id": "f0bb8c6ea24844ab949cbaebb1b5f199",
       "version_major": 2,
       "version_minor": 0
      },
      "text/plain": [
       "Validation: 0it [00:00, ?it/s]"
      ]
     },
     "metadata": {},
     "output_type": "display_data"
    },
    {
     "name": "stderr",
     "output_type": "stream",
     "text": [
      "/tmp/ipykernel_382491/480456487.py:15: UserWarning: No limit_steps provided and env does not have max_episode_steps set. This might lead to infinite loops.\n",
      "  warnings.warn(\"No limit_steps provided and env does not have max_episode_steps set. This might lead to infinite loops.\")\n"
     ]
    },
    {
     "data": {
      "application/vnd.jupyter.widget-view+json": {
       "model_id": "28eb74a843694c01b18f6c9584771bbf",
       "version_major": 2,
       "version_minor": 0
      },
      "text/plain": [
       "Measuring score - step: 0it [00:00, ?it/s]"
      ]
     },
     "metadata": {},
     "output_type": "display_data"
    },
    {
     "data": {
      "application/vnd.jupyter.widget-view+json": {
       "model_id": "67a45a8436cc4985b8f34e8883efca66",
       "version_major": 2,
       "version_minor": 0
      },
      "text/plain": [
       "Validation: 0it [00:00, ?it/s]"
      ]
     },
     "metadata": {},
     "output_type": "display_data"
    },
    {
     "name": "stderr",
     "output_type": "stream",
     "text": [
      "/tmp/ipykernel_382491/480456487.py:15: UserWarning: No limit_steps provided and env does not have max_episode_steps set. This might lead to infinite loops.\n",
      "  warnings.warn(\"No limit_steps provided and env does not have max_episode_steps set. This might lead to infinite loops.\")\n"
     ]
    },
    {
     "data": {
      "application/vnd.jupyter.widget-view+json": {
       "model_id": "56923b48309841e18603691afd197a61",
       "version_major": 2,
       "version_minor": 0
      },
      "text/plain": [
       "Measuring score - step: 0it [00:00, ?it/s]"
      ]
     },
     "metadata": {},
     "output_type": "display_data"
    },
    {
     "data": {
      "application/vnd.jupyter.widget-view+json": {
       "model_id": "8d313b9f873045ac8d7cb2f0cf29c53e",
       "version_major": 2,
       "version_minor": 0
      },
      "text/plain": [
       "Validation: 0it [00:00, ?it/s]"
      ]
     },
     "metadata": {},
     "output_type": "display_data"
    },
    {
     "name": "stderr",
     "output_type": "stream",
     "text": [
      "/tmp/ipykernel_382491/480456487.py:15: UserWarning: No limit_steps provided and env does not have max_episode_steps set. This might lead to infinite loops.\n",
      "  warnings.warn(\"No limit_steps provided and env does not have max_episode_steps set. This might lead to infinite loops.\")\n"
     ]
    },
    {
     "data": {
      "application/vnd.jupyter.widget-view+json": {
       "model_id": "57ffec6d7154409b81b079ee268f6820",
       "version_major": 2,
       "version_minor": 0
      },
      "text/plain": [
       "Measuring score - step: 0it [00:00, ?it/s]"
      ]
     },
     "metadata": {},
     "output_type": "display_data"
    },
    {
     "data": {
      "application/vnd.jupyter.widget-view+json": {
       "model_id": "2761151f04c84cc5939e8846e10d908b",
       "version_major": 2,
       "version_minor": 0
      },
      "text/plain": [
       "Validation: 0it [00:00, ?it/s]"
      ]
     },
     "metadata": {},
     "output_type": "display_data"
    },
    {
     "name": "stderr",
     "output_type": "stream",
     "text": [
      "/tmp/ipykernel_382491/480456487.py:15: UserWarning: No limit_steps provided and env does not have max_episode_steps set. This might lead to infinite loops.\n",
      "  warnings.warn(\"No limit_steps provided and env does not have max_episode_steps set. This might lead to infinite loops.\")\n"
     ]
    },
    {
     "data": {
      "application/vnd.jupyter.widget-view+json": {
       "model_id": "681237becdc3468fa46398b47d562823",
       "version_major": 2,
       "version_minor": 0
      },
      "text/plain": [
       "Measuring score - step: 0it [00:00, ?it/s]"
      ]
     },
     "metadata": {},
     "output_type": "display_data"
    },
    {
     "data": {
      "application/vnd.jupyter.widget-view+json": {
       "model_id": "ae081a5c90a349d8b48a0a3c3193992d",
       "version_major": 2,
       "version_minor": 0
      },
      "text/plain": [
       "Validation: 0it [00:00, ?it/s]"
      ]
     },
     "metadata": {},
     "output_type": "display_data"
    },
    {
     "name": "stderr",
     "output_type": "stream",
     "text": [
      "/tmp/ipykernel_382491/480456487.py:15: UserWarning: No limit_steps provided and env does not have max_episode_steps set. This might lead to infinite loops.\n",
      "  warnings.warn(\"No limit_steps provided and env does not have max_episode_steps set. This might lead to infinite loops.\")\n"
     ]
    },
    {
     "data": {
      "application/vnd.jupyter.widget-view+json": {
       "model_id": "4832b4429c3d4e8c85b7979b4e9139f8",
       "version_major": 2,
       "version_minor": 0
      },
      "text/plain": [
       "Measuring score - step: 0it [00:00, ?it/s]"
      ]
     },
     "metadata": {},
     "output_type": "display_data"
    },
    {
     "data": {
      "application/vnd.jupyter.widget-view+json": {
       "model_id": "18d7a5c9514442668e58afb08fd94dcd",
       "version_major": 2,
       "version_minor": 0
      },
      "text/plain": [
       "Validation: 0it [00:00, ?it/s]"
      ]
     },
     "metadata": {},
     "output_type": "display_data"
    },
    {
     "name": "stderr",
     "output_type": "stream",
     "text": [
      "/tmp/ipykernel_382491/480456487.py:15: UserWarning: No limit_steps provided and env does not have max_episode_steps set. This might lead to infinite loops.\n",
      "  warnings.warn(\"No limit_steps provided and env does not have max_episode_steps set. This might lead to infinite loops.\")\n"
     ]
    },
    {
     "data": {
      "application/vnd.jupyter.widget-view+json": {
       "model_id": "ee004dacffe241e39f07359fc58fdcc8",
       "version_major": 2,
       "version_minor": 0
      },
      "text/plain": [
       "Measuring score - step: 0it [00:00, ?it/s]"
      ]
     },
     "metadata": {},
     "output_type": "display_data"
    },
    {
     "data": {
      "application/vnd.jupyter.widget-view+json": {
       "model_id": "8842eeaf0ddf491489c93c70595d03a1",
       "version_major": 2,
       "version_minor": 0
      },
      "text/plain": [
       "Validation: 0it [00:00, ?it/s]"
      ]
     },
     "metadata": {},
     "output_type": "display_data"
    },
    {
     "name": "stderr",
     "output_type": "stream",
     "text": [
      "/tmp/ipykernel_382491/480456487.py:15: UserWarning: No limit_steps provided and env does not have max_episode_steps set. This might lead to infinite loops.\n",
      "  warnings.warn(\"No limit_steps provided and env does not have max_episode_steps set. This might lead to infinite loops.\")\n"
     ]
    },
    {
     "data": {
      "application/vnd.jupyter.widget-view+json": {
       "model_id": "ee8c4d1f051542d4878c52a00226eff6",
       "version_major": 2,
       "version_minor": 0
      },
      "text/plain": [
       "Measuring score - step: 0it [00:00, ?it/s]"
      ]
     },
     "metadata": {},
     "output_type": "display_data"
    },
    {
     "data": {
      "application/vnd.jupyter.widget-view+json": {
       "model_id": "7d262b7245b64098b68afefe7b3697c8",
       "version_major": 2,
       "version_minor": 0
      },
      "text/plain": [
       "Validation: 0it [00:00, ?it/s]"
      ]
     },
     "metadata": {},
     "output_type": "display_data"
    },
    {
     "name": "stderr",
     "output_type": "stream",
     "text": [
      "/tmp/ipykernel_382491/480456487.py:15: UserWarning: No limit_steps provided and env does not have max_episode_steps set. This might lead to infinite loops.\n",
      "  warnings.warn(\"No limit_steps provided and env does not have max_episode_steps set. This might lead to infinite loops.\")\n"
     ]
    },
    {
     "data": {
      "application/vnd.jupyter.widget-view+json": {
       "model_id": "dcbf17d14941480297621a76f6eb74e4",
       "version_major": 2,
       "version_minor": 0
      },
      "text/plain": [
       "Measuring score - step: 0it [00:00, ?it/s]"
      ]
     },
     "metadata": {},
     "output_type": "display_data"
    },
    {
     "data": {
      "application/vnd.jupyter.widget-view+json": {
       "model_id": "115774c3debb4ffa8a1579b6a72ab597",
       "version_major": 2,
       "version_minor": 0
      },
      "text/plain": [
       "Validation: 0it [00:00, ?it/s]"
      ]
     },
     "metadata": {},
     "output_type": "display_data"
    },
    {
     "name": "stderr",
     "output_type": "stream",
     "text": [
      "/tmp/ipykernel_382491/480456487.py:15: UserWarning: No limit_steps provided and env does not have max_episode_steps set. This might lead to infinite loops.\n",
      "  warnings.warn(\"No limit_steps provided and env does not have max_episode_steps set. This might lead to infinite loops.\")\n"
     ]
    },
    {
     "data": {
      "application/vnd.jupyter.widget-view+json": {
       "model_id": "2f94fc43060a41d9a33bb88908b81e65",
       "version_major": 2,
       "version_minor": 0
      },
      "text/plain": [
       "Measuring score - step: 0it [00:00, ?it/s]"
      ]
     },
     "metadata": {},
     "output_type": "display_data"
    },
    {
     "data": {
      "application/vnd.jupyter.widget-view+json": {
       "model_id": "765a610b89794fdab5563f9e83f419e8",
       "version_major": 2,
       "version_minor": 0
      },
      "text/plain": [
       "Validation: 0it [00:00, ?it/s]"
      ]
     },
     "metadata": {},
     "output_type": "display_data"
    },
    {
     "name": "stderr",
     "output_type": "stream",
     "text": [
      "/tmp/ipykernel_382491/480456487.py:15: UserWarning: No limit_steps provided and env does not have max_episode_steps set. This might lead to infinite loops.\n",
      "  warnings.warn(\"No limit_steps provided and env does not have max_episode_steps set. This might lead to infinite loops.\")\n"
     ]
    },
    {
     "data": {
      "application/vnd.jupyter.widget-view+json": {
       "model_id": "228a8a7c6f914ac0a42a2b79d8fc625a",
       "version_major": 2,
       "version_minor": 0
      },
      "text/plain": [
       "Measuring score - step: 0it [00:00, ?it/s]"
      ]
     },
     "metadata": {},
     "output_type": "display_data"
    },
    {
     "data": {
      "application/vnd.jupyter.widget-view+json": {
       "model_id": "7e2ab13e4a1847dfb4a0238ab54d86e5",
       "version_major": 2,
       "version_minor": 0
      },
      "text/plain": [
       "Validation: 0it [00:00, ?it/s]"
      ]
     },
     "metadata": {},
     "output_type": "display_data"
    },
    {
     "name": "stderr",
     "output_type": "stream",
     "text": [
      "/tmp/ipykernel_382491/480456487.py:15: UserWarning: No limit_steps provided and env does not have max_episode_steps set. This might lead to infinite loops.\n",
      "  warnings.warn(\"No limit_steps provided and env does not have max_episode_steps set. This might lead to infinite loops.\")\n"
     ]
    },
    {
     "data": {
      "application/vnd.jupyter.widget-view+json": {
       "model_id": "fefb495ec880481294050ee8ec2e8fbb",
       "version_major": 2,
       "version_minor": 0
      },
      "text/plain": [
       "Measuring score - step: 0it [00:00, ?it/s]"
      ]
     },
     "metadata": {},
     "output_type": "display_data"
    },
    {
     "data": {
      "application/vnd.jupyter.widget-view+json": {
       "model_id": "08f01d4646eb43e0abc0070019386d4c",
       "version_major": 2,
       "version_minor": 0
      },
      "text/plain": [
       "Validation: 0it [00:00, ?it/s]"
      ]
     },
     "metadata": {},
     "output_type": "display_data"
    },
    {
     "name": "stderr",
     "output_type": "stream",
     "text": [
      "/tmp/ipykernel_382491/480456487.py:15: UserWarning: No limit_steps provided and env does not have max_episode_steps set. This might lead to infinite loops.\n",
      "  warnings.warn(\"No limit_steps provided and env does not have max_episode_steps set. This might lead to infinite loops.\")\n"
     ]
    },
    {
     "data": {
      "application/vnd.jupyter.widget-view+json": {
       "model_id": "de0db691f0db473ca1a44dff627ac23b",
       "version_major": 2,
       "version_minor": 0
      },
      "text/plain": [
       "Measuring score - step: 0it [00:00, ?it/s]"
      ]
     },
     "metadata": {},
     "output_type": "display_data"
    },
    {
     "data": {
      "application/vnd.jupyter.widget-view+json": {
       "model_id": "295ad669fd0642a4bfd6930ef09ebc76",
       "version_major": 2,
       "version_minor": 0
      },
      "text/plain": [
       "Validation: 0it [00:00, ?it/s]"
      ]
     },
     "metadata": {},
     "output_type": "display_data"
    },
    {
     "name": "stderr",
     "output_type": "stream",
     "text": [
      "/tmp/ipykernel_382491/480456487.py:15: UserWarning: No limit_steps provided and env does not have max_episode_steps set. This might lead to infinite loops.\n",
      "  warnings.warn(\"No limit_steps provided and env does not have max_episode_steps set. This might lead to infinite loops.\")\n"
     ]
    },
    {
     "data": {
      "application/vnd.jupyter.widget-view+json": {
       "model_id": "9fe388a45ce64cfda6faa21886e5591f",
       "version_major": 2,
       "version_minor": 0
      },
      "text/plain": [
       "Measuring score - step: 0it [00:00, ?it/s]"
      ]
     },
     "metadata": {},
     "output_type": "display_data"
    },
    {
     "data": {
      "application/vnd.jupyter.widget-view+json": {
       "model_id": "d0371e94a91a4f148371e6fa77af9735",
       "version_major": 2,
       "version_minor": 0
      },
      "text/plain": [
       "Validation: 0it [00:00, ?it/s]"
      ]
     },
     "metadata": {},
     "output_type": "display_data"
    },
    {
     "name": "stderr",
     "output_type": "stream",
     "text": [
      "/tmp/ipykernel_382491/480456487.py:15: UserWarning: No limit_steps provided and env does not have max_episode_steps set. This might lead to infinite loops.\n",
      "  warnings.warn(\"No limit_steps provided and env does not have max_episode_steps set. This might lead to infinite loops.\")\n"
     ]
    },
    {
     "data": {
      "application/vnd.jupyter.widget-view+json": {
       "model_id": "53e6d3f0fccb4296b9572a51836d31ab",
       "version_major": 2,
       "version_minor": 0
      },
      "text/plain": [
       "Measuring score - step: 0it [00:00, ?it/s]"
      ]
     },
     "metadata": {},
     "output_type": "display_data"
    },
    {
     "data": {
      "application/vnd.jupyter.widget-view+json": {
       "model_id": "12bc837ce60841f4b291df0023392948",
       "version_major": 2,
       "version_minor": 0
      },
      "text/plain": [
       "Validation: 0it [00:00, ?it/s]"
      ]
     },
     "metadata": {},
     "output_type": "display_data"
    },
    {
     "name": "stderr",
     "output_type": "stream",
     "text": [
      "/tmp/ipykernel_382491/480456487.py:15: UserWarning: No limit_steps provided and env does not have max_episode_steps set. This might lead to infinite loops.\n",
      "  warnings.warn(\"No limit_steps provided and env does not have max_episode_steps set. This might lead to infinite loops.\")\n"
     ]
    },
    {
     "data": {
      "application/vnd.jupyter.widget-view+json": {
       "model_id": "6e717abecfa94335b9b0ff7bfbf1a16d",
       "version_major": 2,
       "version_minor": 0
      },
      "text/plain": [
       "Measuring score - step: 0it [00:00, ?it/s]"
      ]
     },
     "metadata": {},
     "output_type": "display_data"
    },
    {
     "data": {
      "application/vnd.jupyter.widget-view+json": {
       "model_id": "77f355853ea14383b089eb3405acac25",
       "version_major": 2,
       "version_minor": 0
      },
      "text/plain": [
       "Validation: 0it [00:00, ?it/s]"
      ]
     },
     "metadata": {},
     "output_type": "display_data"
    },
    {
     "name": "stderr",
     "output_type": "stream",
     "text": [
      "/tmp/ipykernel_382491/480456487.py:15: UserWarning: No limit_steps provided and env does not have max_episode_steps set. This might lead to infinite loops.\n",
      "  warnings.warn(\"No limit_steps provided and env does not have max_episode_steps set. This might lead to infinite loops.\")\n"
     ]
    },
    {
     "data": {
      "application/vnd.jupyter.widget-view+json": {
       "model_id": "e44802ab560641c19273e1a6f239bd5b",
       "version_major": 2,
       "version_minor": 0
      },
      "text/plain": [
       "Measuring score - step: 0it [00:00, ?it/s]"
      ]
     },
     "metadata": {},
     "output_type": "display_data"
    },
    {
     "data": {
      "application/vnd.jupyter.widget-view+json": {
       "model_id": "8335f366abe44fe291ea6c6262eec351",
       "version_major": 2,
       "version_minor": 0
      },
      "text/plain": [
       "Validation: 0it [00:00, ?it/s]"
      ]
     },
     "metadata": {},
     "output_type": "display_data"
    },
    {
     "name": "stderr",
     "output_type": "stream",
     "text": [
      "/tmp/ipykernel_382491/480456487.py:15: UserWarning: No limit_steps provided and env does not have max_episode_steps set. This might lead to infinite loops.\n",
      "  warnings.warn(\"No limit_steps provided and env does not have max_episode_steps set. This might lead to infinite loops.\")\n"
     ]
    },
    {
     "data": {
      "application/vnd.jupyter.widget-view+json": {
       "model_id": "cc99b2cea5ee4506bb12572d28ebdf33",
       "version_major": 2,
       "version_minor": 0
      },
      "text/plain": [
       "Measuring score - step: 0it [00:00, ?it/s]"
      ]
     },
     "metadata": {},
     "output_type": "display_data"
    },
    {
     "data": {
      "application/vnd.jupyter.widget-view+json": {
       "model_id": "bf036d60295f4c4bbcf628810079b634",
       "version_major": 2,
       "version_minor": 0
      },
      "text/plain": [
       "Validation: 0it [00:00, ?it/s]"
      ]
     },
     "metadata": {},
     "output_type": "display_data"
    },
    {
     "name": "stderr",
     "output_type": "stream",
     "text": [
      "/tmp/ipykernel_382491/480456487.py:15: UserWarning: No limit_steps provided and env does not have max_episode_steps set. This might lead to infinite loops.\n",
      "  warnings.warn(\"No limit_steps provided and env does not have max_episode_steps set. This might lead to infinite loops.\")\n"
     ]
    },
    {
     "data": {
      "application/vnd.jupyter.widget-view+json": {
       "model_id": "c8adb389abc1426789fd53c03c2cecfb",
       "version_major": 2,
       "version_minor": 0
      },
      "text/plain": [
       "Measuring score - step: 0it [00:00, ?it/s]"
      ]
     },
     "metadata": {},
     "output_type": "display_data"
    },
    {
     "data": {
      "application/vnd.jupyter.widget-view+json": {
       "model_id": "4b34c0a6c22447ffb1eb79f83ce09fa7",
       "version_major": 2,
       "version_minor": 0
      },
      "text/plain": [
       "Validation: 0it [00:00, ?it/s]"
      ]
     },
     "metadata": {},
     "output_type": "display_data"
    },
    {
     "name": "stderr",
     "output_type": "stream",
     "text": [
      "/tmp/ipykernel_382491/480456487.py:15: UserWarning: No limit_steps provided and env does not have max_episode_steps set. This might lead to infinite loops.\n",
      "  warnings.warn(\"No limit_steps provided and env does not have max_episode_steps set. This might lead to infinite loops.\")\n"
     ]
    },
    {
     "data": {
      "application/vnd.jupyter.widget-view+json": {
       "model_id": "5dd2e024ffc446f19d10e3230c2a1b95",
       "version_major": 2,
       "version_minor": 0
      },
      "text/plain": [
       "Measuring score - step: 0it [00:00, ?it/s]"
      ]
     },
     "metadata": {},
     "output_type": "display_data"
    },
    {
     "data": {
      "application/vnd.jupyter.widget-view+json": {
       "model_id": "786225865eb54576b8838875ad1f0cde",
       "version_major": 2,
       "version_minor": 0
      },
      "text/plain": [
       "Validation: 0it [00:00, ?it/s]"
      ]
     },
     "metadata": {},
     "output_type": "display_data"
    },
    {
     "name": "stderr",
     "output_type": "stream",
     "text": [
      "/tmp/ipykernel_382491/480456487.py:15: UserWarning: No limit_steps provided and env does not have max_episode_steps set. This might lead to infinite loops.\n",
      "  warnings.warn(\"No limit_steps provided and env does not have max_episode_steps set. This might lead to infinite loops.\")\n"
     ]
    },
    {
     "data": {
      "application/vnd.jupyter.widget-view+json": {
       "model_id": "491cd5a9ba4e4c3599593dc3209b309e",
       "version_major": 2,
       "version_minor": 0
      },
      "text/plain": [
       "Measuring score - step: 0it [00:00, ?it/s]"
      ]
     },
     "metadata": {},
     "output_type": "display_data"
    },
    {
     "data": {
      "application/vnd.jupyter.widget-view+json": {
       "model_id": "455f99ab5088462d921f3f6b2588cdd8",
       "version_major": 2,
       "version_minor": 0
      },
      "text/plain": [
       "Validation: 0it [00:00, ?it/s]"
      ]
     },
     "metadata": {},
     "output_type": "display_data"
    },
    {
     "name": "stderr",
     "output_type": "stream",
     "text": [
      "/tmp/ipykernel_382491/480456487.py:15: UserWarning: No limit_steps provided and env does not have max_episode_steps set. This might lead to infinite loops.\n",
      "  warnings.warn(\"No limit_steps provided and env does not have max_episode_steps set. This might lead to infinite loops.\")\n"
     ]
    },
    {
     "data": {
      "application/vnd.jupyter.widget-view+json": {
       "model_id": "697fd3df907f4ab7800e77d6249deb20",
       "version_major": 2,
       "version_minor": 0
      },
      "text/plain": [
       "Measuring score - step: 0it [00:00, ?it/s]"
      ]
     },
     "metadata": {},
     "output_type": "display_data"
    },
    {
     "data": {
      "application/vnd.jupyter.widget-view+json": {
       "model_id": "ad28086c40864e17abdd328b3866756e",
       "version_major": 2,
       "version_minor": 0
      },
      "text/plain": [
       "Validation: 0it [00:00, ?it/s]"
      ]
     },
     "metadata": {},
     "output_type": "display_data"
    },
    {
     "name": "stderr",
     "output_type": "stream",
     "text": [
      "/tmp/ipykernel_382491/480456487.py:15: UserWarning: No limit_steps provided and env does not have max_episode_steps set. This might lead to infinite loops.\n",
      "  warnings.warn(\"No limit_steps provided and env does not have max_episode_steps set. This might lead to infinite loops.\")\n"
     ]
    },
    {
     "data": {
      "application/vnd.jupyter.widget-view+json": {
       "model_id": "1b27518da8b9407da09202386e524722",
       "version_major": 2,
       "version_minor": 0
      },
      "text/plain": [
       "Measuring score - step: 0it [00:00, ?it/s]"
      ]
     },
     "metadata": {},
     "output_type": "display_data"
    }
   ],
   "source": [
    "trainer.fit(\n",
    "    dqn,\n",
    "    train_dataloaders=train_loader,\n",
    "    val_dataloaders=valid_loader,\n",
    ")"
   ]
  },
  {
   "attachments": {},
   "cell_type": "markdown",
   "metadata": {},
   "source": [
    "### Training Pong"
   ]
  },
  {
   "cell_type": "code",
   "execution_count": null,
   "metadata": {},
   "outputs": [],
   "source": [
    "NUM_ACTIONS = env_pong.action_space.n\n",
    "\n",
    "mobilenet_v3_small_config = {\n",
    "    \"actions\": NUM_ACTIONS,\n",
    "    \"architecture\": \"mobilenet_v3_small\",\n",
    "    \"input_conv\": \"features.0.0\",\n",
    "    \"output_lin\": \"classifier.3\",\n",
    "}\n",
    "\n",
    "efficientnet_b0_config = {\n",
    "    \"actions\": NUM_ACTIONS,\n",
    "    \"architecture\": \"efficientnet_b0\",\n",
    "    \"input_conv\": \"features.0.0\",\n",
    "    \"output_lin\": \"classifier.1\",\n",
    "}"
   ]
  }
 ],
 "metadata": {
  "kernelspec": {
   "display_name": "drl-imitation-learning",
   "language": "python",
   "name": "python3"
  },
  "language_info": {
   "codemirror_mode": {
    "name": "ipython",
    "version": 3
   },
   "file_extension": ".py",
   "mimetype": "text/x-python",
   "name": "python",
   "nbconvert_exporter": "python",
   "pygments_lexer": "ipython3",
   "version": "3.8.16"
  },
  "orig_nbformat": 4
 },
 "nbformat": 4,
 "nbformat_minor": 2
}
